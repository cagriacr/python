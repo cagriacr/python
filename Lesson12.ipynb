{
  "nbformat": 4,
  "nbformat_minor": 0,
  "metadata": {
    "colab": {
      "provenance": [],
      "authorship_tag": "ABX9TyN1FRNESUPZGPE+VRY0wrzK",
      "include_colab_link": true
    },
    "kernelspec": {
      "name": "python3",
      "display_name": "Python 3"
    },
    "language_info": {
      "name": "python"
    }
  },
  "cells": [
    {
      "cell_type": "markdown",
      "metadata": {
        "id": "view-in-github",
        "colab_type": "text"
      },
      "source": [
        "<a href=\"https://colab.research.google.com/github/cagriacr/python/blob/main/Lesson12.ipynb\" target=\"_parent\"><img src=\"https://colab.research.google.com/assets/colab-badge.svg\" alt=\"Open In Colab\"/></a>"
      ]
    },
    {
      "cell_type": "code",
      "execution_count": 1,
      "metadata": {
        "id": "9oKmXI9Ks6lp"
      },
      "outputs": [],
      "source": [
        "from enum import Enum\n",
        "\n",
        "class Gunler(Enum):\n",
        "    PAZARTESI = \"Pazartesi\"\n",
        "    SALI = \"Salı\"\n",
        "    ÇARŞAMBA = \"Çarşamba\"\n",
        "    PERŞEMBE = \"Perşembe\"\n",
        "    CUMA = \"Cuma\"\n",
        "    CUMARTESİ = \"Cumartesi\"\n",
        "    PAZAR = \"Pazar\""
      ]
    },
    {
      "cell_type": "code",
      "source": [
        "print(Gunler.PAZARTESI)          # Gunler.PAZARTESI\n",
        "print(Gunler.PAZARTESI.name)     # PAZARTESI\n",
        "print(Gunler.PAZARTESI.value)    # Pazartesi"
      ],
      "metadata": {
        "colab": {
          "base_uri": "https://localhost:8080/"
        },
        "id": "2GVRw5_Rs_9L",
        "outputId": "b05c7482-0793-4668-fbef-a264853cbc8a"
      },
      "execution_count": 2,
      "outputs": [
        {
          "output_type": "stream",
          "name": "stdout",
          "text": [
            "Gunler.PAZARTESI\n",
            "PAZARTESI\n",
            "Pazartesi\n"
          ]
        }
      ]
    },
    {
      "cell_type": "code",
      "source": [
        "print(Gunler.ÇARŞAMBA)           # Gunler.ÇARŞAMBA\n",
        "print(Gunler.ÇARŞAMBA.name)      # ÇARŞAMBA\n",
        "print(Gunler.ÇARŞAMBA.value)     # Çarşamba"
      ],
      "metadata": {
        "colab": {
          "base_uri": "https://localhost:8080/"
        },
        "id": "g6ZjeF8EtAAA",
        "outputId": "fc07aca5-6c27-4e30-f3c9-016af091f06c"
      },
      "execution_count": 3,
      "outputs": [
        {
          "output_type": "stream",
          "name": "stdout",
          "text": [
            "Gunler.ÇARŞAMBA\n",
            "ÇARŞAMBA\n",
            "Çarşamba\n"
          ]
        }
      ]
    },
    {
      "cell_type": "code",
      "source": [
        "print(Gunler.CUMARTESİ)          # Gunler.CUMARTESİ\n",
        "print(Gunler.CUMARTESİ.name)     # CUMARTESİ\n",
        "print(Gunler.CUMARTESİ.value)    # Cumartesi"
      ],
      "metadata": {
        "colab": {
          "base_uri": "https://localhost:8080/"
        },
        "id": "6hqWhl3etADQ",
        "outputId": "9408088c-ed15-4a3e-d8da-6d2302667cc2"
      },
      "execution_count": 4,
      "outputs": [
        {
          "output_type": "stream",
          "name": "stdout",
          "text": [
            "Gunler.CUMARTESİ\n",
            "CUMARTESİ\n",
            "Cumartesi\n"
          ]
        }
      ]
    },
    {
      "cell_type": "code",
      "source": [
        "from enum import Enum\n",
        "\n",
        "class Mevsim(Enum):\n",
        "    ILKBASAR = 1\n",
        "    YAZ = 2\n",
        "    SONBAHAR = 3\n",
        "    KIS = 4\n",
        "\n",
        "def hangi_mevsim(ay):\n",
        "    if ay == 3 or ay == 4 or ay == 5:\n",
        "        return Mevsim.ILKBASAR\n",
        "    elif ay == 6 or ay == 7 or ay == 8:\n",
        "        return Mevsim.YAZ\n",
        "    elif ay == 9 or ay == 10 or ay == 11:\n",
        "        return Mevsim.SONBAHAR\n",
        "    else:\n",
        "        return Mevsim.KIS\n",
        "\n",
        "ay = 3\n",
        "mevsim = hangi_mevsim(ay)\n",
        "\n",
        "if mevsim == Mevsim.ILKBASAR:\n",
        "    print(\"İlkbahar\")\n",
        "elif mevsim == Mevsim.YAZ:\n",
        "    print(\"Yaz\")\n",
        "elif mevsim == Mevsim.SONBAHAR:\n",
        "    print(\"Sonbahar\")\n",
        "else:\n",
        "    print(\"Kış\")\n"
      ],
      "metadata": {
        "colab": {
          "base_uri": "https://localhost:8080/"
        },
        "id": "eiEtAHbntAF5",
        "outputId": "cea8adac-2e28-4104-bf88-9f44e8a5838c"
      },
      "execution_count": 7,
      "outputs": [
        {
          "output_type": "stream",
          "name": "stdout",
          "text": [
            "İlkbahar\n"
          ]
        }
      ]
    },
    {
      "cell_type": "code",
      "source": [
        "from enum import Enum\n",
        "\n",
        "class Mevsim(Enum):\n",
        "    ILKBASAR = 1\n",
        "    YAZ = 2\n",
        "    SONBAHAR = 3\n",
        "    KIS = 4\n",
        "\n",
        "def hangi_mevsim(ay):\n",
        "    if ay >= 3 and ay <= 5:\n",
        "        return Mevsim.ILKBASAR\n",
        "    elif ay >= 6 and ay <= 8:\n",
        "        return Mevsim.YAZ\n",
        "    elif ay >= 9 and ay <= 11:\n",
        "        return Mevsim.SONBAHAR\n",
        "    elif ay == 1 or ay == 2 or ay == 12:\n",
        "        return Mevsim.KIS\n",
        "    else:\n",
        "        raise ValueError(\"12 tane ay vardır! Lütfen geçerli bir ay numarası giriniz.\")\n",
        "\n",
        "try:\n",
        "    ay = int(input(\"Bir ay numarası girin: \"))\n",
        "    mevsim = hangi_mevsim(ay)\n",
        "\n",
        "    if mevsim == Mevsim.ILKBASAR:\n",
        "        print(\"Bahar mevsimi\")\n",
        "    elif mevsim == Mevsim.YAZ:\n",
        "        print(\"Yaz mevsimi\")\n",
        "    elif mevsim == Mevsim.SONBAHAR:\n",
        "        print(\"Sonbahar mevsimi\")\n",
        "    else:\n",
        "        print(\"Kış mevsimi\")\n",
        "\n",
        "except ValueError as err:\n",
        "    print(err)\n"
      ],
      "metadata": {
        "colab": {
          "base_uri": "https://localhost:8080/"
        },
        "id": "RPOkvpbKtAIj",
        "outputId": "f49989e8-713e-421d-83ae-657e98076a85"
      },
      "execution_count": 18,
      "outputs": [
        {
          "output_type": "stream",
          "name": "stdout",
          "text": [
            "Bir ay numarası girin: 3\n",
            "Bahar mevsimi\n"
          ]
        }
      ]
    }
  ]
}