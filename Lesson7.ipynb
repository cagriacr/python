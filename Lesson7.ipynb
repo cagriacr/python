{
  "nbformat": 4,
  "nbformat_minor": 0,
  "metadata": {
    "colab": {
      "provenance": [],
      "authorship_tag": "ABX9TyOzg6SJWeEG8G9q0LkmRT4U",
      "include_colab_link": true
    },
    "kernelspec": {
      "name": "python3",
      "display_name": "Python 3"
    },
    "language_info": {
      "name": "python"
    }
  },
  "cells": [
    {
      "cell_type": "markdown",
      "metadata": {
        "id": "view-in-github",
        "colab_type": "text"
      },
      "source": [
        "<a href=\"https://colab.research.google.com/github/cagriacr/python/blob/main/Lesson7.ipynb\" target=\"_parent\"><img src=\"https://colab.research.google.com/assets/colab-badge.svg\" alt=\"Open In Colab\"/></a>"
      ]
    },
    {
      "cell_type": "code",
      "execution_count": 1,
      "metadata": {
        "id": "FZJBhMulZONh"
      },
      "outputs": [],
      "source": [
        "class Credit:\n",
        "  def cr(self):\n",
        "    interest=1.67\n",
        "    result=950000+100*interest\n",
        "    print(\"Total amount payable:\", result)\n",
        "\n",
        "class Vehicle(Credit):\n",
        "  def cr(self):\n",
        "    interest=1.54\n",
        "    result=600000+100*interest\n",
        "    print(\"Credit for vehicle:\", result)\n",
        "\n",
        "class Personal(Credit):\n",
        "  def cr(self):\n",
        "    interest=1.2\n",
        "    result=55000+100*interest\n",
        "    print(\"Credit for personal finance:\", result) "
      ]
    },
    {
      "cell_type": "code",
      "source": [
        "kredi=Credit()"
      ],
      "metadata": {
        "id": "jG_Xl7yRZQEI"
      },
      "execution_count": 2,
      "outputs": []
    },
    {
      "cell_type": "code",
      "source": [
        "tasit=Vehicle()"
      ],
      "metadata": {
        "id": "W0O-64mJZQG2"
      },
      "execution_count": 3,
      "outputs": []
    },
    {
      "cell_type": "code",
      "source": [
        "ihtiyac=Personal()"
      ],
      "metadata": {
        "id": "36ShM45hZQJ_"
      },
      "execution_count": 4,
      "outputs": []
    },
    {
      "cell_type": "code",
      "source": [
        "creditList=[kredi,tasit,ihtiyac]"
      ],
      "metadata": {
        "id": "7Fkj3g-2ZQM6"
      },
      "execution_count": 5,
      "outputs": []
    },
    {
      "cell_type": "code",
      "source": [
        "for credits in creditList:\n",
        "  credits.cr()"
      ],
      "metadata": {
        "colab": {
          "base_uri": "https://localhost:8080/"
        },
        "id": "fPJmeGuNZQTy",
        "outputId": "84a26c49-04b4-41cc-fb0e-94944b3673db"
      },
      "execution_count": 11,
      "outputs": [
        {
          "output_type": "stream",
          "name": "stdout",
          "text": [
            "Total amount payable: 950167.0\n",
            "Credit for vehicle: 600154.0\n",
            "Credit for personal finance: 55120.0\n"
          ]
        }
      ]
    },
    {
      "cell_type": "code",
      "source": [
        "from math import pi\n",
        "\n",
        "class Shape:\n",
        "  def __init__(self,name):\n",
        "    self.name=name\n",
        "\n",
        "  def area(self):\n",
        "    pass\n",
        "\n",
        "  def fact(self):\n",
        "    return print(\"I am a two-dimmensional shape.\")\n",
        "  \n",
        "  def __str__(self):\n",
        "    return self.name\n",
        "\n",
        "class Square(Shape):\n",
        "  def __init__(self, length):\n",
        "    super().__init__(\"Square\")\n",
        "    self.length= length\n",
        "\n",
        "  def area(self):\n",
        "    return print(\"square:\", self.length**2)\n",
        "\n",
        "  def fact(self):\n",
        "    return print(\"Squares have each angle equal to 90 degrees\")\n",
        "\n",
        "class Circle(Shape):\n",
        "  def __init__(self, radius):\n",
        "    super().__init__(\"Circle\")\n",
        "    self.radius=radius\n",
        "\n",
        "  def area(self):\n",
        "    return print(\"circle:\", pi*self.radius**2)\n"
      ],
      "metadata": {
        "id": "qN-cOtF8ZQXz"
      },
      "execution_count": 19,
      "outputs": []
    },
    {
      "cell_type": "code",
      "source": [
        "class Animal:\n",
        "    def __init__(self, name):\n",
        "        self.name = name\n",
        "    \n",
        "    def make_sound(self):\n",
        "        pass\n",
        "\n",
        "class Dog(Animal):\n",
        "    def make_sound(self):\n",
        "        return \"HAV HAV!!\"\n",
        "\n",
        "class Cat(Animal):\n",
        "    def make_sound(self):\n",
        "        return \"Miyavv!\"\n",
        "\n",
        "class Bird(Animal):\n",
        "    def make_sound(self):\n",
        "        return \"Cik cik ciikk!\"\n"
      ],
      "metadata": {
        "id": "SsJo4kOfZQb-"
      },
      "execution_count": 21,
      "outputs": []
    },
    {
      "cell_type": "code",
      "source": [
        "animals = [Dog(\"Boncuk\"), Cat(\"Duman\"), Bird(\"Bıdık\")]"
      ],
      "metadata": {
        "id": "baqMSaUpZQf4"
      },
      "execution_count": 22,
      "outputs": []
    },
    {
      "cell_type": "code",
      "source": [
        "for animal in animals:\n",
        "    print(animal.name + \" says \" + animal.make_sound())"
      ],
      "metadata": {
        "colab": {
          "base_uri": "https://localhost:8080/"
        },
        "id": "VOFqBSbJZQj0",
        "outputId": "fd910648-09a8-41be-da2c-e99e5ad765df"
      },
      "execution_count": 23,
      "outputs": [
        {
          "output_type": "stream",
          "name": "stdout",
          "text": [
            "Boncuk says HAV HAV!!\n",
            "Duman says Miyavv!\n",
            "Bıdık says Cik cik ciikk!\n"
          ]
        }
      ]
    },
    {
      "cell_type": "code",
      "source": [
        "class Vehicle:\n",
        "    def __init__(self, brand, model):\n",
        "        self.brand = brand\n",
        "        self.model = model\n",
        "\n",
        "    def start(self):\n",
        "        print(f\"{self.brand} {self.model} is starting...\")\n",
        "\n",
        "class Car(Vehicle):\n",
        "    def __init__(self, brand, model, fuel_type):\n",
        "        super().__init__(brand, model)\n",
        "        self.fuel_type = fuel_type\n",
        "\n",
        "    def start(self):\n",
        "        print(f\"{self.brand} {self.model} is starting using {self.fuel_type} fuel...\")\n",
        "\n",
        "class Motorcycle(Vehicle):\n",
        "    def __init__(self, brand, model, is_electric):\n",
        "        super().__init__(brand, model)\n",
        "        self.is_electric = is_electric\n",
        "\n",
        "    def start(self):\n",
        "        if self.is_electric:\n",
        "            print(f\"{self.brand} {self.model} is starting with electric power...\")\n",
        "        else:\n",
        "            print(f\"{self.brand} {self.model} is starting using a kick-start...\")\n",
        "\n"
      ],
      "metadata": {
        "id": "hi6MhivfZQn2"
      },
      "execution_count": 24,
      "outputs": []
    },
    {
      "cell_type": "code",
      "source": [
        "vehicles = [Car(\"Toyota\", \"Corolla\", \"gasoline\"), Motorcycle(\"Yamaha\", \"YZF-R25\", False)]"
      ],
      "metadata": {
        "id": "hVMGg2FFZQr4"
      },
      "execution_count": 26,
      "outputs": []
    },
    {
      "cell_type": "code",
      "source": [
        "for vehicle in vehicles:\n",
        "    vehicle.start()"
      ],
      "metadata": {
        "colab": {
          "base_uri": "https://localhost:8080/"
        },
        "id": "eiocvGyiZQwG",
        "outputId": "20165635-98a0-4411-b3cb-5162ecaea8bc"
      },
      "execution_count": 27,
      "outputs": [
        {
          "output_type": "stream",
          "name": "stdout",
          "text": [
            "Toyota Corolla is starting using gasoline fuel...\n",
            "Yamaha YZF-R25 is starting using a kick-start...\n"
          ]
        }
      ]
    },
    {
      "cell_type": "code",
      "source": [
        "class Shape:\n",
        "    def calculate_area(self):\n",
        "        pass\n",
        "\n",
        "class Rectangle(Shape):\n",
        "    def __init__(self, length, width):\n",
        "        self.length = length\n",
        "        self.width = width\n",
        "    \n",
        "    def calculate_area(self):\n",
        "        return self.length * self.width\n",
        "\n",
        "class Circle(Shape):\n",
        "    def __init__(self, radius):\n",
        "        self.radius = radius\n",
        "    \n",
        "    def calculate_area(self):\n",
        "        return 3.14 * self.radius ** 2\n",
        "\n",
        "\n"
      ],
      "metadata": {
        "id": "FltGnWqYZQ0P"
      },
      "execution_count": 28,
      "outputs": []
    },
    {
      "cell_type": "code",
      "source": [
        "shapes = [Rectangle(5, 10), Circle(7)]"
      ],
      "metadata": {
        "id": "CZs9S28rZQ4f"
      },
      "execution_count": 29,
      "outputs": []
    },
    {
      "cell_type": "code",
      "source": [
        "for shape in shapes:\n",
        "    print(\"Area of shape is: \", shape.calculate_area())"
      ],
      "metadata": {
        "colab": {
          "base_uri": "https://localhost:8080/"
        },
        "id": "2aTd3zZgZQ9G",
        "outputId": "388d6af8-7b86-4c43-dd3d-da8843c4bf8f"
      },
      "execution_count": 30,
      "outputs": [
        {
          "output_type": "stream",
          "name": "stdout",
          "text": [
            "Area of shape is:  50\n",
            "Area of shape is:  153.86\n"
          ]
        }
      ]
    }
  ]
}