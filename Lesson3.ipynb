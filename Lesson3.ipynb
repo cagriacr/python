{
  "nbformat": 4,
  "nbformat_minor": 0,
  "metadata": {
    "colab": {
      "provenance": [],
      "authorship_tag": "ABX9TyNW7V6cU/3RhLSXr8tYBTKy",
      "include_colab_link": true
    },
    "kernelspec": {
      "name": "python3",
      "display_name": "Python 3"
    },
    "language_info": {
      "name": "python"
    }
  },
  "cells": [
    {
      "cell_type": "markdown",
      "metadata": {
        "id": "view-in-github",
        "colab_type": "text"
      },
      "source": [
        "<a href=\"https://colab.research.google.com/github/cagriacr/python/blob/main/Lesson3.ipynb\" target=\"_parent\"><img src=\"https://colab.research.google.com/assets/colab-badge.svg\" alt=\"Open In Colab\"/></a>"
      ]
    },
    {
      "cell_type": "code",
      "execution_count": 8,
      "metadata": {
        "colab": {
          "base_uri": "https://localhost:8080/"
        },
        "id": "HVdIJgGpmFAH",
        "outputId": "3afb9716-2b84-4d7c-bc52-57153103cd26"
      },
      "outputs": [
        {
          "output_type": "stream",
          "name": "stdout",
          "text": [
            "x lower than y\n"
          ]
        }
      ],
      "source": [
        "x=18\n",
        "y=19\n",
        "if x<y:\n",
        "  print (\"x lower than y\")"
      ]
    },
    {
      "cell_type": "code",
      "source": [
        "c=int(input(\"enter one variable:\"))"
      ],
      "metadata": {
        "colab": {
          "base_uri": "https://localhost:8080/"
        },
        "id": "rtItqB-0qdWB",
        "outputId": "e2977d86-34c1-4102-a6ff-8971cc455718"
      },
      "execution_count": 9,
      "outputs": [
        {
          "name": "stdout",
          "output_type": "stream",
          "text": [
            "enter one variable:54\n"
          ]
        }
      ]
    },
    {
      "cell_type": "code",
      "source": [
        "d= int(input(\"enter another variable:\"))"
      ],
      "metadata": {
        "colab": {
          "base_uri": "https://localhost:8080/"
        },
        "id": "jR32lzDxqdYo",
        "outputId": "54a431f0-0ca5-4db5-c9bc-90153c5756aa"
      },
      "execution_count": 10,
      "outputs": [
        {
          "name": "stdout",
          "output_type": "stream",
          "text": [
            "enter another variable:28\n"
          ]
        }
      ]
    },
    {
      "cell_type": "code",
      "source": [
        "if c>d:\n",
        "  print(\"first one is greather\")\n",
        "elif d>c:\n",
        "  print(\"second one is greather\")\n",
        "elif c==d:\n",
        "  print(\"two value are equal\")"
      ],
      "metadata": {
        "colab": {
          "base_uri": "https://localhost:8080/"
        },
        "id": "IvbxSjpbqda_",
        "outputId": "f0394a37-0b12-491b-f411-ad0106eb4f95"
      },
      "execution_count": 16,
      "outputs": [
        {
          "output_type": "stream",
          "name": "stdout",
          "text": [
            "first one is greather\n"
          ]
        }
      ]
    },
    {
      "cell_type": "code",
      "source": [
        "t=85\n",
        "r=85\n",
        "if t<r:\n",
        "  print(\"t and r are not  equal\")\n",
        "else :\n",
        "  print (\"t and r are equal\")"
      ],
      "metadata": {
        "colab": {
          "base_uri": "https://localhost:8080/"
        },
        "id": "N5oMlVfgqddt",
        "outputId": "f97a6550-6dd9-406a-c4f5-b8591d27e641"
      },
      "execution_count": 17,
      "outputs": [
        {
          "output_type": "stream",
          "name": "stdout",
          "text": [
            "t and r are equal\n"
          ]
        }
      ]
    },
    {
      "cell_type": "code",
      "source": [
        "a=1\n",
        "b=2\n",
        "c=3\n",
        "if a<b and b<c : print (\"b is greather than a and c is greather than b\")"
      ],
      "metadata": {
        "colab": {
          "base_uri": "https://localhost:8080/"
        },
        "id": "Ih414aurqdgB",
        "outputId": "30619dec-c622-4074-d1ec-4d59f674edba"
      },
      "execution_count": 18,
      "outputs": [
        {
          "output_type": "stream",
          "name": "stdout",
          "text": [
            "b is greather than a and c is greather than b\n"
          ]
        }
      ]
    },
    {
      "cell_type": "code",
      "source": [
        "d=4\n",
        "e=5\n",
        "f=6\n",
        "if d<e or d<f:\n",
        "  print (\"your condition is true\")"
      ],
      "metadata": {
        "colab": {
          "base_uri": "https://localhost:8080/"
        },
        "id": "dzmvra0tqdlk",
        "outputId": "666490a4-593b-4d1f-ae39-b3abd2c46fd6"
      },
      "execution_count": 20,
      "outputs": [
        {
          "output_type": "stream",
          "name": "stdout",
          "text": [
            "your condition is true\n"
          ]
        }
      ]
    },
    {
      "cell_type": "code",
      "source": [
        "num=int(input(\"Select a number:\"))\n",
        "if num<10:\n",
        "  print(\"you access the game \")\n",
        "  if num==5:\n",
        "    print(\"and well done you win\")\n",
        "  else:\n",
        "    print(\"but unfortunately you lose\")"
      ],
      "metadata": {
        "colab": {
          "base_uri": "https://localhost:8080/"
        },
        "id": "92e2c_Cvqdqg",
        "outputId": "57eb252e-d746-4cb1-b075-42425e352508"
      },
      "execution_count": 25,
      "outputs": [
        {
          "output_type": "stream",
          "name": "stdout",
          "text": [
            "Select a number:5\n",
            "you access the game \n",
            "and well done you win\n"
          ]
        }
      ]
    },
    {
      "cell_type": "code",
      "source": [
        "i=1\n",
        "while i<20:\n",
        " print(i)\n",
        " i+=2\n",
        "  "
      ],
      "metadata": {
        "colab": {
          "base_uri": "https://localhost:8080/"
        },
        "id": "ydYdov9Wqdsq",
        "outputId": "04a54af9-412a-4745-90da-960f3d684bcc"
      },
      "execution_count": 32,
      "outputs": [
        {
          "output_type": "stream",
          "name": "stdout",
          "text": [
            "1\n",
            "3\n",
            "5\n",
            "7\n",
            "9\n",
            "11\n",
            "13\n",
            "15\n",
            "17\n",
            "19\n"
          ]
        }
      ]
    },
    {
      "cell_type": "code",
      "source": [
        "i=12\n",
        "while i<35:\n",
        "  print(i)\n",
        "  if i==32:\n",
        "   break\n",
        "  i+=5"
      ],
      "metadata": {
        "colab": {
          "base_uri": "https://localhost:8080/"
        },
        "id": "lbk3G_R0qdva",
        "outputId": "e9a31987-3350-4173-f5e2-49f66f6b6c5a"
      },
      "execution_count": 39,
      "outputs": [
        {
          "output_type": "stream",
          "name": "stdout",
          "text": [
            "12\n",
            "17\n",
            "22\n",
            "27\n",
            "32\n"
          ]
        }
      ]
    },
    {
      "cell_type": "code",
      "source": [
        "i=0\n",
        "while i<6:\n",
        "  print(i)\n",
        "  i+=1\n",
        "  if i==3:\n",
        "    continue\n",
        "  "
      ],
      "metadata": {
        "colab": {
          "base_uri": "https://localhost:8080/"
        },
        "id": "y695c8kkqdyP",
        "outputId": "32f7348e-d92b-4988-fe22-5e30728c9010"
      },
      "execution_count": 40,
      "outputs": [
        {
          "output_type": "stream",
          "name": "stdout",
          "text": [
            "0\n",
            "1\n",
            "2\n",
            "3\n",
            "4\n",
            "5\n"
          ]
        }
      ]
    },
    {
      "cell_type": "code",
      "source": [
        "Tools=[\"BurpSuite\", \"Nessus\", \"Hydra\"]\n",
        "for x in Tools: \n",
        "  print(x)"
      ],
      "metadata": {
        "colab": {
          "base_uri": "https://localhost:8080/"
        },
        "id": "N8D11rrPqd0g",
        "outputId": "6a791830-4eae-4770-9fd5-f286c7ab5d2c"
      },
      "execution_count": 41,
      "outputs": [
        {
          "output_type": "stream",
          "name": "stdout",
          "text": [
            "BurpSuite\n",
            "Nessus\n",
            "Hydra\n"
          ]
        }
      ]
    },
    {
      "cell_type": "code",
      "source": [
        "Tools.append(\"Nmap\")\n"
      ],
      "metadata": {
        "colab": {
          "base_uri": "https://localhost:8080/"
        },
        "id": "TgHb4CrOqd8O",
        "outputId": "dcb87efe-7290-4704-daf4-8b1926ec6629"
      },
      "execution_count": 43,
      "outputs": [
        {
          "output_type": "stream",
          "name": "stdout",
          "text": [
            "Hydra\n"
          ]
        }
      ]
    },
    {
      "cell_type": "code",
      "source": [
        "Tools"
      ],
      "metadata": {
        "colab": {
          "base_uri": "https://localhost:8080/"
        },
        "id": "gtrzTYK9qeBB",
        "outputId": "9ab7d3c3-03c0-4885-b716-473e91351832"
      },
      "execution_count": 44,
      "outputs": [
        {
          "output_type": "execute_result",
          "data": {
            "text/plain": [
              "['BurpSuite', 'Nessus', 'Hydra', 'Nmap', 'Nmap']"
            ]
          },
          "metadata": {},
          "execution_count": 44
        }
      ]
    },
    {
      "cell_type": "code",
      "source": [
        "ftool=input(\"What is ur favorite tools in web app?\")"
      ],
      "metadata": {
        "colab": {
          "base_uri": "https://localhost:8080/"
        },
        "id": "C2fxKTX2qeDW",
        "outputId": "321c33a8-9882-4c60-eb30-004477833cdb"
      },
      "execution_count": 45,
      "outputs": [
        {
          "name": "stdout",
          "output_type": "stream",
          "text": [
            "What is ur favorite tools in web app?NetSparker\n"
          ]
        }
      ]
    },
    {
      "cell_type": "code",
      "source": [
        "Tools.append(ftool)"
      ],
      "metadata": {
        "id": "OVxSbc7kqeIn"
      },
      "execution_count": 46,
      "outputs": []
    },
    {
      "cell_type": "code",
      "source": [
        "Tools"
      ],
      "metadata": {
        "colab": {
          "base_uri": "https://localhost:8080/"
        },
        "id": "4_Eh1r_AqeN1",
        "outputId": "6ff69d73-69fd-4597-dadb-1106772407b3"
      },
      "execution_count": 47,
      "outputs": [
        {
          "output_type": "execute_result",
          "data": {
            "text/plain": [
              "['BurpSuite', 'Nessus', 'Hydra', 'Nmap', 'Nmap', 'NetSparker']"
            ]
          },
          "metadata": {},
          "execution_count": 47
        }
      ]
    },
    {
      "cell_type": "code",
      "source": [
        "for v in Tools:\n",
        "  print(v)"
      ],
      "metadata": {
        "colab": {
          "base_uri": "https://localhost:8080/"
        },
        "id": "-eJrIUvdqeSx",
        "outputId": "b3ee3402-19dd-41a3-b6fe-6d94fba9f8b9"
      },
      "execution_count": 49,
      "outputs": [
        {
          "output_type": "stream",
          "name": "stdout",
          "text": [
            "BurpSuite\n",
            "Nessus\n",
            "Hydra\n",
            "Nmap\n",
            "Nmap\n",
            "NetSparker\n"
          ]
        }
      ]
    },
    {
      "cell_type": "code",
      "source": [
        "for v in range(18):\n",
        "  print(v)"
      ],
      "metadata": {
        "colab": {
          "base_uri": "https://localhost:8080/"
        },
        "id": "0qbeLFmFqecJ",
        "outputId": "82b00737-c0de-43b2-a99c-8e0ec96fca62"
      },
      "execution_count": 50,
      "outputs": [
        {
          "output_type": "stream",
          "name": "stdout",
          "text": [
            "0\n",
            "1\n",
            "2\n",
            "3\n",
            "4\n",
            "5\n",
            "6\n",
            "7\n",
            "8\n",
            "9\n",
            "10\n",
            "11\n",
            "12\n",
            "13\n",
            "14\n",
            "15\n",
            "16\n",
            "17\n"
          ]
        }
      ]
    },
    {
      "cell_type": "code",
      "source": [
        "for v in range(2,8):\n",
        "  print(v)"
      ],
      "metadata": {
        "colab": {
          "base_uri": "https://localhost:8080/"
        },
        "id": "BxUntIiJqehq",
        "outputId": "991e0dc6-a2e3-4765-95ec-5f6bcc520559"
      },
      "execution_count": 54,
      "outputs": [
        {
          "output_type": "stream",
          "name": "stdout",
          "text": [
            "2\n",
            "3\n",
            "4\n",
            "5\n",
            "6\n",
            "7\n"
          ]
        }
      ]
    },
    {
      "cell_type": "code",
      "source": [
        "col=[\"purple\", \"red\", \"blue\"]\n",
        "obj=[\"table\", \"chair\", \"pencil\"]\n",
        "\n",
        "for x in col:\n",
        "  for y in obj:\n",
        "    print(x,y)"
      ],
      "metadata": {
        "colab": {
          "base_uri": "https://localhost:8080/"
        },
        "id": "7b3khe66qej1",
        "outputId": "c1cae85e-3b6c-4ce7-fc86-11666120ac5f"
      },
      "execution_count": 59,
      "outputs": [
        {
          "output_type": "stream",
          "name": "stdout",
          "text": [
            "purple table\n",
            "purple chair\n",
            "purple pencil\n",
            "red table\n",
            "red chair\n",
            "red pencil\n",
            "blue table\n",
            "blue chair\n",
            "blue pencil\n"
          ]
        }
      ]
    },
    {
      "cell_type": "code",
      "source": [
        "obj=[\"table\", \"chair\", \"pencil\"]\n",
        "col=[\"purple\", \"red\", \"blue\"]\n",
        "\n",
        "for y in obj:\n",
        "  for x in col:\n",
        "    print(x,y)"
      ],
      "metadata": {
        "colab": {
          "base_uri": "https://localhost:8080/"
        },
        "id": "xpya5fFOqenT",
        "outputId": "864a9e8c-cd39-4402-c5b2-068083e646bc"
      },
      "execution_count": 57,
      "outputs": [
        {
          "output_type": "stream",
          "name": "stdout",
          "text": [
            "purple table\n",
            "red table\n",
            "blue table\n",
            "purple chair\n",
            "red chair\n",
            "blue chair\n",
            "purple pencil\n",
            "red pencil\n",
            "blue pencil\n"
          ]
        }
      ]
    }
  ]
}