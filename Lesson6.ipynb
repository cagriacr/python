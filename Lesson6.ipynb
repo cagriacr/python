{
  "nbformat": 4,
  "nbformat_minor": 0,
  "metadata": {
    "colab": {
      "provenance": [],
      "authorship_tag": "ABX9TyObZprT5sfHyNWsnMRwRHKT",
      "include_colab_link": true
    },
    "kernelspec": {
      "name": "python3",
      "display_name": "Python 3"
    },
    "language_info": {
      "name": "python"
    }
  },
  "cells": [
    {
      "cell_type": "markdown",
      "metadata": {
        "id": "view-in-github",
        "colab_type": "text"
      },
      "source": [
        "<a href=\"https://colab.research.google.com/github/cagriacr/python/blob/main/Lesson6.ipynb\" target=\"_parent\"><img src=\"https://colab.research.google.com/assets/colab-badge.svg\" alt=\"Open In Colab\"/></a>"
      ]
    },
    {
      "cell_type": "code",
      "execution_count": 21,
      "metadata": {
        "id": "BAdNJOIdQKn1"
      },
      "outputs": [],
      "source": [
        "class Employee:\n",
        "  def __init__(self,name,no):\n",
        "    self.name=name\n",
        "    self.no=no\n",
        "    def display(self):\n",
        "      print(self.name,self.no)"
      ]
    },
    {
      "cell_type": "code",
      "source": [
        "let=Employee(\"ÇAĞRI\", 190201007)"
      ],
      "metadata": {
        "id": "-XMAfBikQPgo"
      },
      "execution_count": 10,
      "outputs": []
    },
    {
      "cell_type": "code",
      "source": [
        "let.no"
      ],
      "metadata": {
        "colab": {
          "base_uri": "https://localhost:8080/"
        },
        "id": "L2P91i39QPiI",
        "outputId": "629e385e-e010-4614-a0df-f522cc615e99"
      },
      "execution_count": 11,
      "outputs": [
        {
          "output_type": "execute_result",
          "data": {
            "text/plain": [
              "190201007"
            ]
          },
          "metadata": {},
          "execution_count": 11
        }
      ]
    },
    {
      "cell_type": "code",
      "source": [
        "let.name"
      ],
      "metadata": {
        "colab": {
          "base_uri": "https://localhost:8080/",
          "height": 36
        },
        "id": "KJD8lspFQPko",
        "outputId": "e997efa0-d4f9-48c0-9ced-206e2c7792cb"
      },
      "execution_count": 12,
      "outputs": [
        {
          "output_type": "execute_result",
          "data": {
            "text/plain": [
              "'ÇAĞRI'"
            ],
            "application/vnd.google.colaboratory.intrinsic+json": {
              "type": "string"
            }
          },
          "metadata": {},
          "execution_count": 12
        }
      ]
    },
    {
      "cell_type": "code",
      "source": [
        "emp=Employee(\"ŞAKİR\",190206547)"
      ],
      "metadata": {
        "id": "pcqgdfTDQPnC"
      },
      "execution_count": 15,
      "outputs": []
    },
    {
      "cell_type": "code",
      "source": [
        "emp.name"
      ],
      "metadata": {
        "colab": {
          "base_uri": "https://localhost:8080/",
          "height": 36
        },
        "id": "mYm_ZiZRQPpf",
        "outputId": "840e504f-d287-4ab4-fb39-479dec828752"
      },
      "execution_count": 16,
      "outputs": [
        {
          "output_type": "execute_result",
          "data": {
            "text/plain": [
              "'ŞAKİR'"
            ],
            "application/vnd.google.colaboratory.intrinsic+json": {
              "type": "string"
            }
          },
          "metadata": {},
          "execution_count": 16
        }
      ]
    },
    {
      "cell_type": "code",
      "source": [
        "emp.no"
      ],
      "metadata": {
        "colab": {
          "base_uri": "https://localhost:8080/"
        },
        "id": "AA4zori8QPsn",
        "outputId": "44c65d01-34a9-4012-a15c-9d695cd05666"
      },
      "execution_count": 17,
      "outputs": [
        {
          "output_type": "execute_result",
          "data": {
            "text/plain": [
              "190206547"
            ]
          },
          "metadata": {},
          "execution_count": 17
        }
      ]
    },
    {
      "cell_type": "code",
      "source": [
        "class Per(Employee):\n",
        "  def Print(self):\n",
        "    print (\"emp has class\")"
      ],
      "metadata": {
        "id": "5hiWm45pQPu8"
      },
      "execution_count": 23,
      "outputs": []
    },
    {
      "cell_type": "code",
      "source": [
        "emp=Per(\"Çağrı\",190201007)"
      ],
      "metadata": {
        "id": "lGexjH32QPxQ"
      },
      "execution_count": 24,
      "outputs": []
    },
    {
      "cell_type": "code",
      "source": [
        "emp.Print()"
      ],
      "metadata": {
        "colab": {
          "base_uri": "https://localhost:8080/"
        },
        "id": "iZcZlEeaQPzz",
        "outputId": "0407a979-9193-4c52-9607-f710829f03a4"
      },
      "execution_count": 26,
      "outputs": [
        {
          "output_type": "stream",
          "name": "stdout",
          "text": [
            "emp has class\n"
          ]
        }
      ]
    },
    {
      "cell_type": "code",
      "source": [
        "emp.name"
      ],
      "metadata": {
        "colab": {
          "base_uri": "https://localhost:8080/",
          "height": 36
        },
        "id": "beCk-MMvQP2R",
        "outputId": "e91e6377-8d95-475e-b0ec-2b20f7ef31ed"
      },
      "execution_count": 27,
      "outputs": [
        {
          "output_type": "execute_result",
          "data": {
            "text/plain": [
              "'Çağrı'"
            ],
            "application/vnd.google.colaboratory.intrinsic+json": {
              "type": "string"
            }
          },
          "metadata": {},
          "execution_count": 27
        }
      ]
    },
    {
      "cell_type": "code",
      "source": [
        "emp.no"
      ],
      "metadata": {
        "colab": {
          "base_uri": "https://localhost:8080/"
        },
        "id": "ZyZMS3DpQP4s",
        "outputId": "0fec2c7a-cf3b-4513-ee76-566f79843470"
      },
      "execution_count": 28,
      "outputs": [
        {
          "output_type": "execute_result",
          "data": {
            "text/plain": [
              "190201007"
            ]
          },
          "metadata": {},
          "execution_count": 28
        }
      ]
    },
    {
      "cell_type": "code",
      "source": [
        "class Tools:\n",
        "\n",
        "  def __init__(self, name):\n",
        "    self.name=name\n",
        "    print(\"Tools be in class\")\n",
        "\n",
        "  def area(self):\n",
        "    print(\"Tools using area\")\n",
        "\n",
        "  def user(self):\n",
        "    print(\"who use the tools\")"
      ],
      "metadata": {
        "id": "hiRXZHHDQP7V"
      },
      "execution_count": 41,
      "outputs": []
    },
    {
      "cell_type": "code",
      "source": [
        "class NetSparker(Tools):\n",
        "  def __init__(self):\n",
        "    super().__init__(self)\n",
        "    print(\"NetSparker is in Tools class\")\n",
        "\n",
        "  def network(self):\n",
        "    print(\"Using for automated scanning\")\n",
        "\n",
        "  def scan(self):\n",
        "    print(\"Using network scanning\") "
      ],
      "metadata": {
        "id": "cDSpBmy9QP9-"
      },
      "execution_count": 31,
      "outputs": []
    },
    {
      "cell_type": "code",
      "source": [
        "tool=Tools(\"NetSparker\")"
      ],
      "metadata": {
        "colab": {
          "base_uri": "https://localhost:8080/"
        },
        "id": "hg0D2nplQQA4",
        "outputId": "fc3fe711-1650-4e55-b32e-31043980256d"
      },
      "execution_count": 32,
      "outputs": [
        {
          "output_type": "stream",
          "name": "stdout",
          "text": [
            "Tools be in class\n"
          ]
        }
      ]
    },
    {
      "cell_type": "code",
      "source": [
        "cm=NetSparker()"
      ],
      "metadata": {
        "colab": {
          "base_uri": "https://localhost:8080/"
        },
        "id": "-PcR5-XBQQDF",
        "outputId": "50e868d9-dcb3-4023-8667-c72bc64d97cd"
      },
      "execution_count": 33,
      "outputs": [
        {
          "output_type": "stream",
          "name": "stdout",
          "text": [
            "Tools be in class\n",
            "NetSparker is in Tools class\n"
          ]
        }
      ]
    },
    {
      "cell_type": "code",
      "source": [
        "cm.area()"
      ],
      "metadata": {
        "colab": {
          "base_uri": "https://localhost:8080/"
        },
        "id": "0tC5YZGXQpuT",
        "outputId": "e9c80ba5-e826-4368-dd6e-618a8495ad19"
      },
      "execution_count": 38,
      "outputs": [
        {
          "output_type": "stream",
          "name": "stdout",
          "text": [
            "Tools using area\n"
          ]
        }
      ]
    },
    {
      "cell_type": "code",
      "source": [
        "cm.user()"
      ],
      "metadata": {
        "colab": {
          "base_uri": "https://localhost:8080/"
        },
        "id": "d3CdtB6GQpwk",
        "outputId": "315187f8-9bcf-4f4d-f03c-2af1f6a8c252"
      },
      "execution_count": 37,
      "outputs": [
        {
          "output_type": "stream",
          "name": "stdout",
          "text": [
            "who use the tools\n"
          ]
        }
      ]
    },
    {
      "cell_type": "code",
      "source": [
        "cm.network()"
      ],
      "metadata": {
        "colab": {
          "base_uri": "https://localhost:8080/"
        },
        "id": "KKwLWmWVQpzI",
        "outputId": "3767148e-5d37-4f3a-93be-a7308cfad223"
      },
      "execution_count": 39,
      "outputs": [
        {
          "output_type": "stream",
          "name": "stdout",
          "text": [
            "Using for automated scanning\n"
          ]
        }
      ]
    },
    {
      "cell_type": "code",
      "source": [
        "cm.scan()"
      ],
      "metadata": {
        "colab": {
          "base_uri": "https://localhost:8080/"
        },
        "id": "TDpzrM6eUXL4",
        "outputId": "7d55ab6a-0f20-425e-8920-b3bd9c012034"
      },
      "execution_count": 40,
      "outputs": [
        {
          "output_type": "stream",
          "name": "stdout",
          "text": [
            "Using network scanning\n"
          ]
        }
      ]
    },
    {
      "cell_type": "code",
      "source": [
        "class People:\n",
        "  def __init__(self,name,no):\n",
        "    self.name=name\n",
        "    self.no=no\n",
        "\n",
        "  def display(self):\n",
        "    print(self.name)\n",
        "    print(self.idnumber)\n",
        "\n",
        "class Coming(People):\n",
        "  def __init__(self, name,no,fromm, to):\n",
        "    self.fromm=fromm\n",
        "    self.to=tool\n",
        "\n",
        "    People.__init__(self,name,no)"
      ],
      "metadata": {
        "id": "oXlWtnASUXOO"
      },
      "execution_count": 51,
      "outputs": []
    },
    {
      "cell_type": "code",
      "source": [
        "obj=Coming(\"Çağrı\",190201007,\"İstanbul\",\"New York\")\n",
        "\n"
      ],
      "metadata": {
        "id": "L3Knq9pyUXQb"
      },
      "execution_count": 47,
      "outputs": []
    },
    {
      "cell_type": "code",
      "source": [
        "obj.display()"
      ],
      "metadata": {
        "colab": {
          "base_uri": "https://localhost:8080/"
        },
        "id": "2LkqVnijUXS8",
        "outputId": "b8d61e97-7d5c-4e04-e6ec-c42edc392edd"
      },
      "execution_count": 48,
      "outputs": [
        {
          "output_type": "stream",
          "name": "stdout",
          "text": [
            "Çağrı\n",
            "190201007\n"
          ]
        }
      ]
    },
    {
      "cell_type": "code",
      "source": [
        "#@title homework\n",
        "class Kitchen:\n",
        "  def __init__(self):\n",
        "    self.temp= \"Knife\"\n",
        "    print(\"Knife is using in Kitchen\")\n",
        "  def method(self):\n",
        "    print(\"using cutting\")\n",
        "\n",
        "\n",
        "class Bedroom:\n",
        "  def __init__(self):\n",
        "    self.tmp=\"BED\"\n",
        "    print(\"Bed is using in Bedroom\")\n",
        "  def method(self):\n",
        "    print(\"useing sleeping\")\n",
        "\n",
        "\n",
        "\n",
        "class Comb(Kitchen, Bedroom):\n",
        "  def __init__(self):\n",
        "    Kitchen.__init__(self)\n",
        "    Bedroom.__init__(self)\n",
        "    print(\"Combination of two class\")\n",
        "\n",
        "  def printStrs(self):\n",
        "    print(self.temp, self.tmp)\n",
        "\n"
      ],
      "metadata": {
        "id": "Z6oG3CUzUXZb"
      },
      "execution_count": 63,
      "outputs": []
    },
    {
      "cell_type": "code",
      "source": [
        "obj=Comb()"
      ],
      "metadata": {
        "colab": {
          "base_uri": "https://localhost:8080/"
        },
        "id": "PwIM26i3Qp1f",
        "outputId": "5e014e4d-3843-4421-d0d3-1e54a1366066"
      },
      "execution_count": 57,
      "outputs": [
        {
          "output_type": "stream",
          "name": "stdout",
          "text": [
            "Knife is using in Kitchen\n",
            "Bed is using in Bedroom\n",
            "Combination of two class\n"
          ]
        }
      ]
    },
    {
      "cell_type": "code",
      "source": [
        "obj.temp"
      ],
      "metadata": {
        "colab": {
          "base_uri": "https://localhost:8080/",
          "height": 36
        },
        "id": "voWPWUaIQp37",
        "outputId": "9d32514d-a54b-4b7c-a237-b35ed1eaba05"
      },
      "execution_count": 58,
      "outputs": [
        {
          "output_type": "execute_result",
          "data": {
            "text/plain": [
              "'Knife'"
            ],
            "application/vnd.google.colaboratory.intrinsic+json": {
              "type": "string"
            }
          },
          "metadata": {},
          "execution_count": 58
        }
      ]
    },
    {
      "cell_type": "code",
      "source": [
        "obj.tmp"
      ],
      "metadata": {
        "colab": {
          "base_uri": "https://localhost:8080/",
          "height": 36
        },
        "id": "gn4jXdqaYMCu",
        "outputId": "f295cde0-bac3-4756-aaf6-010920d5a3b5"
      },
      "execution_count": 69,
      "outputs": [
        {
          "output_type": "execute_result",
          "data": {
            "text/plain": [
              "'BED'"
            ],
            "application/vnd.google.colaboratory.intrinsic+json": {
              "type": "string"
            }
          },
          "metadata": {},
          "execution_count": 69
        }
      ]
    },
    {
      "cell_type": "code",
      "source": [
        "obj.method()"
      ],
      "metadata": {
        "colab": {
          "base_uri": "https://localhost:8080/"
        },
        "id": "UadGy0rnYMFC",
        "outputId": "5d925902-02e2-4289-c288-ca57946f904e"
      },
      "execution_count": 65,
      "outputs": [
        {
          "output_type": "stream",
          "name": "stdout",
          "text": [
            "using cutting\n"
          ]
        }
      ]
    },
    {
      "cell_type": "code",
      "source": [
        "obj.printStrs()"
      ],
      "metadata": {
        "colab": {
          "base_uri": "https://localhost:8080/"
        },
        "id": "u46XpM0YYMHR",
        "outputId": "955556cd-0f15-4e4b-8b94-12f4b6e326dd"
      },
      "execution_count": 67,
      "outputs": [
        {
          "output_type": "stream",
          "name": "stdout",
          "text": [
            "Knife BED\n"
          ]
        }
      ]
    }
  ]
}