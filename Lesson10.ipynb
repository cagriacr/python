{
  "nbformat": 4,
  "nbformat_minor": 0,
  "metadata": {
    "colab": {
      "provenance": [],
      "authorship_tag": "ABX9TyP22nU88gNcb3HTuZiI5azF",
      "include_colab_link": true
    },
    "kernelspec": {
      "name": "python3",
      "display_name": "Python 3"
    },
    "language_info": {
      "name": "python"
    }
  },
  "cells": [
    {
      "cell_type": "markdown",
      "metadata": {
        "id": "view-in-github",
        "colab_type": "text"
      },
      "source": [
        "<a href=\"https://colab.research.google.com/github/cagriacr/python/blob/main/Lesson10.ipynb\" target=\"_parent\"><img src=\"https://colab.research.google.com/assets/colab-badge.svg\" alt=\"Open In Colab\"/></a>"
      ]
    },
    {
      "cell_type": "code",
      "execution_count": 7,
      "metadata": {
        "colab": {
          "base_uri": "https://localhost:8080/"
        },
        "id": "a_oIvufwgl6a",
        "outputId": "c1e1695f-81f2-4d2e-b76f-e2dfaf6b5d7f"
      },
      "outputs": [
        {
          "output_type": "stream",
          "name": "stdout",
          "text": [
            "Drive already mounted at /content/drive; to attempt to forcibly remount, call drive.mount(\"/content/drive\", force_remount=True).\n"
          ]
        }
      ],
      "source": [
        "from google.colab import drive\n",
        "drive.mount('/content/drive')"
      ]
    },
    {
      "cell_type": "code",
      "source": [
        "with open('/content/drive/MyDrive/Betik/yeni_betik.txt.txt') as file_object:\n",
        "  contents = file_object.read()\n",
        "  print(contents)"
      ],
      "metadata": {
        "colab": {
          "base_uri": "https://localhost:8080/"
        },
        "id": "oEo8rq24g9HD",
        "outputId": "450281f9-529b-44fc-ffc1-e53916f939b9"
      },
      "execution_count": 8,
      "outputs": [
        {
          "output_type": "stream",
          "name": "stdout",
          "text": [
            "#!/bin/bash\n",
            "\n",
            "findDiff(){\n",
            "\n",
            "        diff cagri.txt date.txt\n",
            "\n",
            "}\n",
            "\n",
            "echo -e \"\\n\"\n",
            "if [ ! -f \"cagri.txt\" ]; then\n",
            "        #echo \"dosya sistemde bulunmamaktadır. Dosya oluşturuluyor.\"\n",
            "                iptables-save > cagri1.txt\n",
            "                 sed -n 's/^-/&/p' cagri1.txt > cagri.txt\n",
            "                 rm cagri1.txt\n",
            "                exit 1\n",
            "fi\n",
            "\n",
            "iptables-save > iptables.txt\n",
            "\n",
            "sed -n 's/^-/&/p' iptables.txt > date.txt\n",
            "rm iptables.txt\n",
            "echo \" Tablolar arasındaki farklı olan kurallar: \"\n",
            "echo -e \"\\n\"\n",
            "findDiff\n",
            "echo -e \"\\n\"\n",
            "echo \" Tarih ->  $(date) \"\n",
            "echo -e \"\\n\"\n",
            "echo \" Farklı olan kuralları /var/log/diffLogs.txt yolunda bulabilirsiniz. \"\n",
            "echo -e \"\\n\"\n",
            "diff cagri.txt date.txt > /var/log/diffLogs.txt\n",
            "s\n"
          ]
        }
      ]
    },
    {
      "cell_type": "code",
      "source": [
        "filename = '/content/drive/MyDrive/Betik/yeni_betik.txt.txt'\n",
        "with open(filename) as file_object:\n",
        "  for line in file_object:\n",
        "    print(line)"
      ],
      "metadata": {
        "colab": {
          "base_uri": "https://localhost:8080/"
        },
        "id": "WSDnAtfvg9JX",
        "outputId": "0611f070-509d-41da-9515-aae0d7b30181"
      },
      "execution_count": 9,
      "outputs": [
        {
          "output_type": "stream",
          "name": "stdout",
          "text": [
            "#!/bin/bash\n",
            "\n",
            "\n",
            "\n",
            "findDiff(){\n",
            "\n",
            "\n",
            "\n",
            "        diff cagri.txt date.txt\n",
            "\n",
            "\n",
            "\n",
            "}\n",
            "\n",
            "\n",
            "\n",
            "echo -e \"\\n\"\n",
            "\n",
            "if [ ! -f \"cagri.txt\" ]; then\n",
            "\n",
            "        #echo \"dosya sistemde bulunmamaktadır. Dosya oluşturuluyor.\"\n",
            "\n",
            "                iptables-save > cagri1.txt\n",
            "\n",
            "                 sed -n 's/^-/&/p' cagri1.txt > cagri.txt\n",
            "\n",
            "                 rm cagri1.txt\n",
            "\n",
            "                exit 1\n",
            "\n",
            "fi\n",
            "\n",
            "\n",
            "\n",
            "iptables-save > iptables.txt\n",
            "\n",
            "\n",
            "\n",
            "sed -n 's/^-/&/p' iptables.txt > date.txt\n",
            "\n",
            "rm iptables.txt\n",
            "\n",
            "echo \" Tablolar arasındaki farklı olan kurallar: \"\n",
            "\n",
            "echo -e \"\\n\"\n",
            "\n",
            "findDiff\n",
            "\n",
            "echo -e \"\\n\"\n",
            "\n",
            "echo \" Tarih ->  $(date) \"\n",
            "\n",
            "echo -e \"\\n\"\n",
            "\n",
            "echo \" Farklı olan kuralları /var/log/diffLogs.txt yolunda bulabilirsiniz. \"\n",
            "\n",
            "echo -e \"\\n\"\n",
            "\n",
            "diff cagri.txt date.txt > /var/log/diffLogs.txt\n",
            "\n",
            "s\n"
          ]
        }
      ]
    },
    {
      "cell_type": "code",
      "source": [
        "filename = '/content/drive/MyDrive/Betik/yeni_betik.txt.txt'\n",
        "with open(filename) as file_object:\n",
        "  lines=file_object.readlines()\n",
        "for line in lines:\n",
        "  print(line.rstrip())"
      ],
      "metadata": {
        "colab": {
          "base_uri": "https://localhost:8080/"
        },
        "id": "1B1eZ0L4g9Lq",
        "outputId": "ebb847d6-2d41-44c5-cc09-9e8556d13278"
      },
      "execution_count": 10,
      "outputs": [
        {
          "output_type": "stream",
          "name": "stdout",
          "text": [
            "#!/bin/bash\n",
            "\n",
            "findDiff(){\n",
            "\n",
            "        diff cagri.txt date.txt\n",
            "\n",
            "}\n",
            "\n",
            "echo -e \"\\n\"\n",
            "if [ ! -f \"cagri.txt\" ]; then\n",
            "        #echo \"dosya sistemde bulunmamaktadır. Dosya oluşturuluyor.\"\n",
            "                iptables-save > cagri1.txt\n",
            "                 sed -n 's/^-/&/p' cagri1.txt > cagri.txt\n",
            "                 rm cagri1.txt\n",
            "                exit 1\n",
            "fi\n",
            "\n",
            "iptables-save > iptables.txt\n",
            "\n",
            "sed -n 's/^-/&/p' iptables.txt > date.txt\n",
            "rm iptables.txt\n",
            "echo \" Tablolar arasındaki farklı olan kurallar: \"\n",
            "echo -e \"\\n\"\n",
            "findDiff\n",
            "echo -e \"\\n\"\n",
            "echo \" Tarih ->  $(date) \"\n",
            "echo -e \"\\n\"\n",
            "echo \" Farklı olan kuralları /var/log/diffLogs.txt yolunda bulabilirsiniz. \"\n",
            "echo -e \"\\n\"\n",
            "diff cagri.txt date.txt > /var/log/diffLogs.txt\n",
            "s\n"
          ]
        }
      ]
    },
    {
      "cell_type": "code",
      "source": [
        "filename = '/content/drive/MyDrive/Betik/yeni_betik.txt.txt'\n",
        "with open(filename) as file_object:\n",
        "  lines=file_object.readlines()\n",
        "  ex = ''\n",
        "for line in lines:\n",
        "  ex += line.rstrip()\n",
        "  print(ex)\n",
        "  print(len(ex))"
      ],
      "metadata": {
        "colab": {
          "base_uri": "https://localhost:8080/"
        },
        "id": "TzcJDiUig9OH",
        "outputId": "385d9f12-fe10-4623-d340-c2bf4a3244f0"
      },
      "execution_count": 12,
      "outputs": [
        {
          "output_type": "stream",
          "name": "stdout",
          "text": [
            "#!/bin/bash\n",
            "11\n",
            "#!/bin/bash\n",
            "11\n",
            "#!/bin/bashfindDiff(){\n",
            "22\n",
            "#!/bin/bashfindDiff(){\n",
            "22\n",
            "#!/bin/bashfindDiff(){        diff cagri.txt date.txt\n",
            "53\n",
            "#!/bin/bashfindDiff(){        diff cagri.txt date.txt\n",
            "53\n",
            "#!/bin/bashfindDiff(){        diff cagri.txt date.txt}\n",
            "54\n",
            "#!/bin/bashfindDiff(){        diff cagri.txt date.txt}\n",
            "54\n",
            "#!/bin/bashfindDiff(){        diff cagri.txt date.txt}echo -e \"\\n\"\n",
            "66\n",
            "#!/bin/bashfindDiff(){        diff cagri.txt date.txt}echo -e \"\\n\"if [ ! -f \"cagri.txt\" ]; then\n",
            "95\n",
            "#!/bin/bashfindDiff(){        diff cagri.txt date.txt}echo -e \"\\n\"if [ ! -f \"cagri.txt\" ]; then        #echo \"dosya sistemde bulunmamaktadır. Dosya oluşturuluyor.\"\n",
            "163\n",
            "#!/bin/bashfindDiff(){        diff cagri.txt date.txt}echo -e \"\\n\"if [ ! -f \"cagri.txt\" ]; then        #echo \"dosya sistemde bulunmamaktadır. Dosya oluşturuluyor.\"                iptables-save > cagri1.txt\n",
            "205\n",
            "#!/bin/bashfindDiff(){        diff cagri.txt date.txt}echo -e \"\\n\"if [ ! -f \"cagri.txt\" ]; then        #echo \"dosya sistemde bulunmamaktadır. Dosya oluşturuluyor.\"                iptables-save > cagri1.txt                 sed -n 's/^-/&/p' cagri1.txt > cagri.txt\n",
            "262\n",
            "#!/bin/bashfindDiff(){        diff cagri.txt date.txt}echo -e \"\\n\"if [ ! -f \"cagri.txt\" ]; then        #echo \"dosya sistemde bulunmamaktadır. Dosya oluşturuluyor.\"                iptables-save > cagri1.txt                 sed -n 's/^-/&/p' cagri1.txt > cagri.txt                 rm cagri1.txt\n",
            "292\n",
            "#!/bin/bashfindDiff(){        diff cagri.txt date.txt}echo -e \"\\n\"if [ ! -f \"cagri.txt\" ]; then        #echo \"dosya sistemde bulunmamaktadır. Dosya oluşturuluyor.\"                iptables-save > cagri1.txt                 sed -n 's/^-/&/p' cagri1.txt > cagri.txt                 rm cagri1.txt                exit 1\n",
            "314\n",
            "#!/bin/bashfindDiff(){        diff cagri.txt date.txt}echo -e \"\\n\"if [ ! -f \"cagri.txt\" ]; then        #echo \"dosya sistemde bulunmamaktadır. Dosya oluşturuluyor.\"                iptables-save > cagri1.txt                 sed -n 's/^-/&/p' cagri1.txt > cagri.txt                 rm cagri1.txt                exit 1fi\n",
            "316\n",
            "#!/bin/bashfindDiff(){        diff cagri.txt date.txt}echo -e \"\\n\"if [ ! -f \"cagri.txt\" ]; then        #echo \"dosya sistemde bulunmamaktadır. Dosya oluşturuluyor.\"                iptables-save > cagri1.txt                 sed -n 's/^-/&/p' cagri1.txt > cagri.txt                 rm cagri1.txt                exit 1fi\n",
            "316\n",
            "#!/bin/bashfindDiff(){        diff cagri.txt date.txt}echo -e \"\\n\"if [ ! -f \"cagri.txt\" ]; then        #echo \"dosya sistemde bulunmamaktadır. Dosya oluşturuluyor.\"                iptables-save > cagri1.txt                 sed -n 's/^-/&/p' cagri1.txt > cagri.txt                 rm cagri1.txt                exit 1fiiptables-save > iptables.txt\n",
            "344\n",
            "#!/bin/bashfindDiff(){        diff cagri.txt date.txt}echo -e \"\\n\"if [ ! -f \"cagri.txt\" ]; then        #echo \"dosya sistemde bulunmamaktadır. Dosya oluşturuluyor.\"                iptables-save > cagri1.txt                 sed -n 's/^-/&/p' cagri1.txt > cagri.txt                 rm cagri1.txt                exit 1fiiptables-save > iptables.txt\n",
            "344\n",
            "#!/bin/bashfindDiff(){        diff cagri.txt date.txt}echo -e \"\\n\"if [ ! -f \"cagri.txt\" ]; then        #echo \"dosya sistemde bulunmamaktadır. Dosya oluşturuluyor.\"                iptables-save > cagri1.txt                 sed -n 's/^-/&/p' cagri1.txt > cagri.txt                 rm cagri1.txt                exit 1fiiptables-save > iptables.txtsed -n 's/^-/&/p' iptables.txt > date.txt\n",
            "385\n",
            "#!/bin/bashfindDiff(){        diff cagri.txt date.txt}echo -e \"\\n\"if [ ! -f \"cagri.txt\" ]; then        #echo \"dosya sistemde bulunmamaktadır. Dosya oluşturuluyor.\"                iptables-save > cagri1.txt                 sed -n 's/^-/&/p' cagri1.txt > cagri.txt                 rm cagri1.txt                exit 1fiiptables-save > iptables.txtsed -n 's/^-/&/p' iptables.txt > date.txtrm iptables.txt\n",
            "400\n",
            "#!/bin/bashfindDiff(){        diff cagri.txt date.txt}echo -e \"\\n\"if [ ! -f \"cagri.txt\" ]; then        #echo \"dosya sistemde bulunmamaktadır. Dosya oluşturuluyor.\"                iptables-save > cagri1.txt                 sed -n 's/^-/&/p' cagri1.txt > cagri.txt                 rm cagri1.txt                exit 1fiiptables-save > iptables.txtsed -n 's/^-/&/p' iptables.txt > date.txtrm iptables.txtecho \" Tablolar arasındaki farklı olan kurallar: \"\n",
            "450\n",
            "#!/bin/bashfindDiff(){        diff cagri.txt date.txt}echo -e \"\\n\"if [ ! -f \"cagri.txt\" ]; then        #echo \"dosya sistemde bulunmamaktadır. Dosya oluşturuluyor.\"                iptables-save > cagri1.txt                 sed -n 's/^-/&/p' cagri1.txt > cagri.txt                 rm cagri1.txt                exit 1fiiptables-save > iptables.txtsed -n 's/^-/&/p' iptables.txt > date.txtrm iptables.txtecho \" Tablolar arasındaki farklı olan kurallar: \"echo -e \"\\n\"\n",
            "462\n",
            "#!/bin/bashfindDiff(){        diff cagri.txt date.txt}echo -e \"\\n\"if [ ! -f \"cagri.txt\" ]; then        #echo \"dosya sistemde bulunmamaktadır. Dosya oluşturuluyor.\"                iptables-save > cagri1.txt                 sed -n 's/^-/&/p' cagri1.txt > cagri.txt                 rm cagri1.txt                exit 1fiiptables-save > iptables.txtsed -n 's/^-/&/p' iptables.txt > date.txtrm iptables.txtecho \" Tablolar arasındaki farklı olan kurallar: \"echo -e \"\\n\"findDiff\n",
            "470\n",
            "#!/bin/bashfindDiff(){        diff cagri.txt date.txt}echo -e \"\\n\"if [ ! -f \"cagri.txt\" ]; then        #echo \"dosya sistemde bulunmamaktadır. Dosya oluşturuluyor.\"                iptables-save > cagri1.txt                 sed -n 's/^-/&/p' cagri1.txt > cagri.txt                 rm cagri1.txt                exit 1fiiptables-save > iptables.txtsed -n 's/^-/&/p' iptables.txt > date.txtrm iptables.txtecho \" Tablolar arasındaki farklı olan kurallar: \"echo -e \"\\n\"findDiffecho -e \"\\n\"\n",
            "482\n",
            "#!/bin/bashfindDiff(){        diff cagri.txt date.txt}echo -e \"\\n\"if [ ! -f \"cagri.txt\" ]; then        #echo \"dosya sistemde bulunmamaktadır. Dosya oluşturuluyor.\"                iptables-save > cagri1.txt                 sed -n 's/^-/&/p' cagri1.txt > cagri.txt                 rm cagri1.txt                exit 1fiiptables-save > iptables.txtsed -n 's/^-/&/p' iptables.txt > date.txtrm iptables.txtecho \" Tablolar arasındaki farklı olan kurallar: \"echo -e \"\\n\"findDiffecho -e \"\\n\"echo \" Tarih ->  $(date) \"\n",
            "508\n",
            "#!/bin/bashfindDiff(){        diff cagri.txt date.txt}echo -e \"\\n\"if [ ! -f \"cagri.txt\" ]; then        #echo \"dosya sistemde bulunmamaktadır. Dosya oluşturuluyor.\"                iptables-save > cagri1.txt                 sed -n 's/^-/&/p' cagri1.txt > cagri.txt                 rm cagri1.txt                exit 1fiiptables-save > iptables.txtsed -n 's/^-/&/p' iptables.txt > date.txtrm iptables.txtecho \" Tablolar arasındaki farklı olan kurallar: \"echo -e \"\\n\"findDiffecho -e \"\\n\"echo \" Tarih ->  $(date) \"echo -e \"\\n\"\n",
            "520\n",
            "#!/bin/bashfindDiff(){        diff cagri.txt date.txt}echo -e \"\\n\"if [ ! -f \"cagri.txt\" ]; then        #echo \"dosya sistemde bulunmamaktadır. Dosya oluşturuluyor.\"                iptables-save > cagri1.txt                 sed -n 's/^-/&/p' cagri1.txt > cagri.txt                 rm cagri1.txt                exit 1fiiptables-save > iptables.txtsed -n 's/^-/&/p' iptables.txt > date.txtrm iptables.txtecho \" Tablolar arasındaki farklı olan kurallar: \"echo -e \"\\n\"findDiffecho -e \"\\n\"echo \" Tarih ->  $(date) \"echo -e \"\\n\"echo \" Farklı olan kuralları /var/log/diffLogs.txt yolunda bulabilirsiniz. \"\n",
            "596\n",
            "#!/bin/bashfindDiff(){        diff cagri.txt date.txt}echo -e \"\\n\"if [ ! -f \"cagri.txt\" ]; then        #echo \"dosya sistemde bulunmamaktadır. Dosya oluşturuluyor.\"                iptables-save > cagri1.txt                 sed -n 's/^-/&/p' cagri1.txt > cagri.txt                 rm cagri1.txt                exit 1fiiptables-save > iptables.txtsed -n 's/^-/&/p' iptables.txt > date.txtrm iptables.txtecho \" Tablolar arasındaki farklı olan kurallar: \"echo -e \"\\n\"findDiffecho -e \"\\n\"echo \" Tarih ->  $(date) \"echo -e \"\\n\"echo \" Farklı olan kuralları /var/log/diffLogs.txt yolunda bulabilirsiniz. \"echo -e \"\\n\"\n",
            "608\n",
            "#!/bin/bashfindDiff(){        diff cagri.txt date.txt}echo -e \"\\n\"if [ ! -f \"cagri.txt\" ]; then        #echo \"dosya sistemde bulunmamaktadır. Dosya oluşturuluyor.\"                iptables-save > cagri1.txt                 sed -n 's/^-/&/p' cagri1.txt > cagri.txt                 rm cagri1.txt                exit 1fiiptables-save > iptables.txtsed -n 's/^-/&/p' iptables.txt > date.txtrm iptables.txtecho \" Tablolar arasındaki farklı olan kurallar: \"echo -e \"\\n\"findDiffecho -e \"\\n\"echo \" Tarih ->  $(date) \"echo -e \"\\n\"echo \" Farklı olan kuralları /var/log/diffLogs.txt yolunda bulabilirsiniz. \"echo -e \"\\n\"diff cagri.txt date.txt > /var/log/diffLogs.txt\n",
            "655\n",
            "#!/bin/bashfindDiff(){        diff cagri.txt date.txt}echo -e \"\\n\"if [ ! -f \"cagri.txt\" ]; then        #echo \"dosya sistemde bulunmamaktadır. Dosya oluşturuluyor.\"                iptables-save > cagri1.txt                 sed -n 's/^-/&/p' cagri1.txt > cagri.txt                 rm cagri1.txt                exit 1fiiptables-save > iptables.txtsed -n 's/^-/&/p' iptables.txt > date.txtrm iptables.txtecho \" Tablolar arasındaki farklı olan kurallar: \"echo -e \"\\n\"findDiffecho -e \"\\n\"echo \" Tarih ->  $(date) \"echo -e \"\\n\"echo \" Farklı olan kuralları /var/log/diffLogs.txt yolunda bulabilirsiniz. \"echo -e \"\\n\"diff cagri.txt date.txt > /var/log/diffLogs.txts\n",
            "656\n"
          ]
        }
      ]
    },
    {
      "cell_type": "code",
      "source": [
        "filename = '/content/drive/MyDrive/Betik/bos.txt'"
      ],
      "metadata": {
        "id": "j1JyOrQFg9Qh"
      },
      "execution_count": 14,
      "outputs": []
    },
    {
      "cell_type": "code",
      "source": [
        "filename = '/content/drive/MyDrive/Betik/bos.txt'\n",
        "\n",
        "with open(filename, 'w') as file_object:\n",
        "    file_object.write(\"That is regex code of findDiff function \\n\")\n",
        "    file_object.write(\"sed -n 's/^-/&/p' cagri1.txt > cagri.txt \\n\")"
      ],
      "metadata": {
        "id": "Lgy_sjjTg9TW"
      },
      "execution_count": 16,
      "outputs": []
    },
    {
      "cell_type": "code",
      "source": [
        "filename = '/content/drive/MyDrive/Betik/bos.txt'\n",
        "\n",
        "with open(filename, 'a') as file_object:\n",
        "    file_object.write(\"I also love coding in bash.\\n\")\n",
        "    file_object.write(\"In my opinion bash script is the best.\\n\")"
      ],
      "metadata": {
        "id": "I1IGyfyxkjUy"
      },
      "execution_count": 18,
      "outputs": []
    },
    {
      "cell_type": "code",
      "source": [
        "while True:\n",
        "    num1 = input(\"İlk sayıyı girin (Programdan çıkmak için 'x' tuşuna basın): \")\n",
        "    \n",
        "    if num1 == 'x':\n",
        "        break\n",
        "    \n",
        "    num2 = input(\"İkinci sayıyı girin: \")\n",
        "\n",
        "    try:\n",
        "        result = float(num1) / float(num2)\n",
        "        print(\"Sonuç:\", result)\n",
        "    except ZeroDivisionError:\n",
        "        print(\"Hata: Paydada sıfır olamaz.\")\n",
        "    except ValueError:\n",
        "        print(\"Hata: Geçersiz sayı girişi.\")\n"
      ],
      "metadata": {
        "colab": {
          "base_uri": "https://localhost:8080/"
        },
        "id": "6_JwzXkakjXY",
        "outputId": "c9e179d7-c499-45ab-e9ef-9032e9fceeba"
      },
      "execution_count": 23,
      "outputs": [
        {
          "name": "stdout",
          "output_type": "stream",
          "text": [
            "İlk sayıyı girin (Programdan çıkmak için 'x' tuşuna basın): 32\n",
            "İkinci sayıyı girin: 12\n",
            "Sonuç: 2.6666666666666665\n",
            "İlk sayıyı girin (Programdan çıkmak için 'x' tuşuna basın): x\n"
          ]
        }
      ]
    },
    {
      "cell_type": "code",
      "source": [
        "def count_words(filename):\n",
        "    with open(filename, \"r\") as file:\n",
        "        contents = file.read()\n",
        "        word_count = len(contents.split())\n",
        "        return word_count\n",
        "\n",
        "filename = '/content/drive/MyDrive/Betik/bos.txt'\n",
        "\n",
        "try:\n",
        "    word_count = count_words(filename)\n",
        "    print(\"Dosyadaki kelime sayısı:\", word_count)\n",
        "except FileNotFoundError:\n",
        "    print(\"Hata: Dosya bulunamadı.\")\n"
      ],
      "metadata": {
        "colab": {
          "base_uri": "https://localhost:8080/"
        },
        "id": "Wd6J1Rz_kjZ2",
        "outputId": "decaedb8-658d-46a4-d294-1556178a6a64"
      },
      "execution_count": 24,
      "outputs": [
        {
          "output_type": "stream",
          "name": "stdout",
          "text": [
            "Dosyadaki kelime sayısı: 41\n"
          ]
        }
      ]
    },
    {
      "cell_type": "code",
      "source": [
        "def count_words(filename):\n",
        "    with open(filename, \"r\") as file:\n",
        "        contents = file.read()\n",
        "        word_count = len(contents.split())\n",
        "        return word_count\n",
        "\n",
        "filename = '/content/drive/MyDrive/Betik/betik.txt.txt'\n",
        "\n",
        "try:\n",
        "    word_count = count_words(filename)\n",
        "    print(\"Dosyadaki kelime sayısı:\", word_count)\n",
        "except FileNotFoundError:\n",
        "    print(\"Hata: Dosya bulunamadı.\")"
      ],
      "metadata": {
        "colab": {
          "base_uri": "https://localhost:8080/"
        },
        "id": "PCW_2ZlukjcO",
        "outputId": "59a6801b-6463-4504-83cd-a699c17666a8"
      },
      "execution_count": 25,
      "outputs": [
        {
          "output_type": "stream",
          "name": "stdout",
          "text": [
            "Hata: Dosya bulunamadı.\n"
          ]
        }
      ]
    },
    {
      "cell_type": "code",
      "source": [
        "def count_words(filename):\n",
        "    with open(filename, \"r\") as file:\n",
        "        contents = file.read()\n",
        "        word_count = len(contents.split())\n",
        "        return word_count\n",
        "\n",
        "filename = '/content/drive/MyDrive/Betik/yeni_betik.txt.txt'\n",
        "\n",
        "try:\n",
        "    word_count = count_words(filename)\n",
        "    print(\"Dosyadaki kelime sayısı:\", word_count)\n",
        "except FileNotFoundError:\n",
        "    print(\"Hata: Dosya bulunamadı.\")"
      ],
      "metadata": {
        "colab": {
          "base_uri": "https://localhost:8080/"
        },
        "id": "Q780r48Mkjet",
        "outputId": "bee999f4-3bc4-4442-96c6-0ef1e82d6456"
      },
      "execution_count": 26,
      "outputs": [
        {
          "output_type": "stream",
          "name": "stdout",
          "text": [
            "Dosyadaki kelime sayısı: 89\n"
          ]
        }
      ]
    },
    {
      "cell_type": "code",
      "source": [],
      "metadata": {
        "id": "MUpe8jPzkjhE"
      },
      "execution_count": null,
      "outputs": []
    },
    {
      "cell_type": "code",
      "source": [],
      "metadata": {
        "id": "3n57FeX_kjjc"
      },
      "execution_count": null,
      "outputs": []
    },
    {
      "cell_type": "code",
      "source": [],
      "metadata": {
        "id": "1wVx2kPpkjl1"
      },
      "execution_count": null,
      "outputs": []
    },
    {
      "cell_type": "code",
      "source": [],
      "metadata": {
        "id": "B1eyP1jpkjqZ"
      },
      "execution_count": null,
      "outputs": []
    },
    {
      "cell_type": "code",
      "source": [],
      "metadata": {
        "id": "n-JmQVaSkjtC"
      },
      "execution_count": null,
      "outputs": []
    },
    {
      "cell_type": "code",
      "source": [],
      "metadata": {
        "id": "JHCTc7RSkjvL"
      },
      "execution_count": null,
      "outputs": []
    },
    {
      "cell_type": "code",
      "source": [],
      "metadata": {
        "id": "mB7uwKNpkjxq"
      },
      "execution_count": null,
      "outputs": []
    },
    {
      "cell_type": "code",
      "source": [],
      "metadata": {
        "id": "otAU8FAwkjz5"
      },
      "execution_count": null,
      "outputs": []
    },
    {
      "cell_type": "code",
      "source": [],
      "metadata": {
        "id": "SierEUOmg9VK"
      },
      "execution_count": null,
      "outputs": []
    },
    {
      "cell_type": "code",
      "source": [],
      "metadata": {
        "id": "bWbPpKBBg9dw"
      },
      "execution_count": null,
      "outputs": []
    },
    {
      "cell_type": "code",
      "source": [],
      "metadata": {
        "id": "aGbILkIMg9gW"
      },
      "execution_count": null,
      "outputs": []
    }
  ]
}