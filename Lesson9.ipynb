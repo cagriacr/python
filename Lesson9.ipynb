{
  "nbformat": 4,
  "nbformat_minor": 0,
  "metadata": {
    "colab": {
      "provenance": [],
      "authorship_tag": "ABX9TyNXzAs6D4hINMUjMH3DIVpd",
      "include_colab_link": true
    },
    "kernelspec": {
      "name": "python3",
      "display_name": "Python 3"
    },
    "language_info": {
      "name": "python"
    }
  },
  "cells": [
    {
      "cell_type": "markdown",
      "metadata": {
        "id": "view-in-github",
        "colab_type": "text"
      },
      "source": [
        "<a href=\"https://colab.research.google.com/github/cagriacr/python/blob/main/Lesson9.ipynb\" target=\"_parent\"><img src=\"https://colab.research.google.com/assets/colab-badge.svg\" alt=\"Open In Colab\"/></a>"
      ]
    },
    {
      "cell_type": "code",
      "execution_count": 9,
      "metadata": {
        "id": "7vaTOMefeo4O"
      },
      "outputs": [],
      "source": [
        "class Shape:\n",
        "    def area(self):\n",
        "        pass\n",
        "\n",
        "class Rectangle(Shape):\n",
        "    def __init__(self, length, width):\n",
        "        self.length = length\n",
        "        self.width = width\n",
        "    \n",
        "    def area(self):\n",
        "        return self.length * self.width\n",
        "\n",
        "class Circle(Shape):\n",
        "    def __init__(self, radius):\n",
        "        self.radius = radius\n",
        "    \n",
        "    def area(self):\n",
        "        return 3.14 * self.radius ** 2\n",
        "\n",
        "class Cube(Shape):\n",
        "  def __init__(self, lenght):\n",
        "    self.lenght = lenght\n",
        "\n",
        "  def area(self):\n",
        "    return 6 * self.lenght * self.lenght\n",
        "\n"
      ]
    },
    {
      "cell_type": "code",
      "source": [
        "my_rectangle = Rectangle(5, 3)"
      ],
      "metadata": {
        "id": "1iRNo1p2epVs"
      },
      "execution_count": 2,
      "outputs": []
    },
    {
      "cell_type": "code",
      "source": [
        "print(\"Rectangle area:\", my_rectangle.area())"
      ],
      "metadata": {
        "colab": {
          "base_uri": "https://localhost:8080/"
        },
        "id": "WtSFMVbrepYS",
        "outputId": "a7d99891-9d01-4648-a32f-f80cfaae94f6"
      },
      "execution_count": 3,
      "outputs": [
        {
          "output_type": "stream",
          "name": "stdout",
          "text": [
            "Rectangle area: 15\n"
          ]
        }
      ]
    },
    {
      "cell_type": "code",
      "source": [
        "my_circle = Circle(4)"
      ],
      "metadata": {
        "id": "oR8PMvY_epax"
      },
      "execution_count": 4,
      "outputs": []
    },
    {
      "cell_type": "code",
      "source": [
        "print(\"Circle area:\", my_circle.area())"
      ],
      "metadata": {
        "colab": {
          "base_uri": "https://localhost:8080/"
        },
        "id": "2S6NkXd6epfx",
        "outputId": "a5ab4f92-0cee-4338-e913-dd6673644b40"
      },
      "execution_count": 5,
      "outputs": [
        {
          "output_type": "stream",
          "name": "stdout",
          "text": [
            "Circle area: 50.24\n"
          ]
        }
      ]
    },
    {
      "cell_type": "code",
      "source": [
        "my_cube = Cube(5)"
      ],
      "metadata": {
        "id": "Jd4_9ObJepkk"
      },
      "execution_count": 7,
      "outputs": []
    },
    {
      "cell_type": "code",
      "source": [
        "print(\"Cube area:\", my_cube.area())"
      ],
      "metadata": {
        "colab": {
          "base_uri": "https://localhost:8080/"
        },
        "id": "qH6UtyVUepnL",
        "outputId": "f7f87293-07d9-41cf-ca6d-4d1adf19c21c"
      },
      "execution_count": 10,
      "outputs": [
        {
          "output_type": "stream",
          "name": "stdout",
          "text": [
            "Cube area: 150\n"
          ]
        }
      ]
    },
    {
      "cell_type": "code",
      "source": [
        "class Vehicle:\n",
        "    def start_engine(self):\n",
        "        print(\"engine started to run.\")\n",
        "\n",
        "class Car(Vehicle):\n",
        "    def start_engine(self):\n",
        "        print(\"Car engine started to run.\")\n",
        "\n",
        "class Truck(Vehicle):\n",
        "    def start_engine(self):\n",
        "        print(\"Truck engine started to run.\")"
      ],
      "metadata": {
        "id": "hdfsX7AjepsN"
      },
      "execution_count": 32,
      "outputs": []
    },
    {
      "cell_type": "code",
      "source": [
        "my_car = Car()"
      ],
      "metadata": {
        "id": "x6a8isqaepuy"
      },
      "execution_count": 33,
      "outputs": []
    },
    {
      "cell_type": "code",
      "source": [
        "my_car.start_engine()"
      ],
      "metadata": {
        "colab": {
          "base_uri": "https://localhost:8080/"
        },
        "id": "6eq4dj-Bepz7",
        "outputId": "55baad6f-e993-45cb-da9c-b253734293c8"
      },
      "execution_count": 34,
      "outputs": [
        {
          "output_type": "stream",
          "name": "stdout",
          "text": [
            "Car engine started to run.\n"
          ]
        }
      ]
    },
    {
      "cell_type": "code",
      "source": [
        "my_truck = Truck()"
      ],
      "metadata": {
        "id": "ij3l-JkWep2Z"
      },
      "execution_count": 35,
      "outputs": []
    },
    {
      "cell_type": "code",
      "source": [
        "my_truck.start_engine()"
      ],
      "metadata": {
        "colab": {
          "base_uri": "https://localhost:8080/"
        },
        "id": "6BrQ_QUtep7U",
        "outputId": "6dc862f0-89c0-4555-be91-441cac101d0b"
      },
      "execution_count": 36,
      "outputs": [
        {
          "output_type": "stream",
          "name": "stdout",
          "text": [
            "Truck engine started to run.\n"
          ]
        }
      ]
    },
    {
      "cell_type": "code",
      "source": [
        "from abc import ABC, abstractmethod\n",
        "\n",
        "class Animal(ABC):\n",
        "    @abstractmethod\n",
        "    def make_sound(self):\n",
        "        pass"
      ],
      "metadata": {
        "id": "50gpZM4bep-C"
      },
      "execution_count": 17,
      "outputs": []
    },
    {
      "cell_type": "code",
      "source": [
        "class Dog(Animal):\n",
        "    def make_sound(self):\n",
        "        print(\"Hav Hav Hav !!\")"
      ],
      "metadata": {
        "id": "cbpmVLiSeqAi"
      },
      "execution_count": 26,
      "outputs": []
    },
    {
      "cell_type": "code",
      "source": [
        "class Cat(Animal):\n",
        "    def make_sound(self):\n",
        "        print(\"Miyav Miyav Miyav !!\")"
      ],
      "metadata": {
        "id": "HsHnZERVeqDM"
      },
      "execution_count": 27,
      "outputs": []
    },
    {
      "cell_type": "code",
      "source": [
        "my_dog = Dog()"
      ],
      "metadata": {
        "id": "59hWC8TzeqFi"
      },
      "execution_count": 28,
      "outputs": []
    },
    {
      "cell_type": "code",
      "source": [
        "my_dog.make_sound() "
      ],
      "metadata": {
        "colab": {
          "base_uri": "https://localhost:8080/"
        },
        "id": "ZpN2ZWj6eqNL",
        "outputId": "ab66e81b-f9d3-4c87-d11a-7787c7ce91b2"
      },
      "execution_count": 29,
      "outputs": [
        {
          "output_type": "stream",
          "name": "stdout",
          "text": [
            "Hav Hav Hav !!\n"
          ]
        }
      ]
    },
    {
      "cell_type": "code",
      "source": [
        "my_cat = Cat()"
      ],
      "metadata": {
        "id": "zVYVqkdQeqPo"
      },
      "execution_count": 30,
      "outputs": []
    },
    {
      "cell_type": "code",
      "source": [
        "my_cat.make_sound()"
      ],
      "metadata": {
        "colab": {
          "base_uri": "https://localhost:8080/"
        },
        "id": "7Kv1MmCTeqYC",
        "outputId": "42890191-8f16-4b96-eff3-7c05d76e4128"
      },
      "execution_count": 31,
      "outputs": [
        {
          "output_type": "stream",
          "name": "stdout",
          "text": [
            "Miyav Miyav Miyav !!\n"
          ]
        }
      ]
    },
    {
      "cell_type": "code",
      "source": [
        "from abc import ABC, abstractmethod\n",
        "\n",
        "class Employee(ABC):\n",
        "    @abstractmethod\n",
        "    def calculate_salary(self):\n",
        "        pass\n",
        "\n",
        "class HourlyEmployee(Employee):\n",
        "    def __init__(self, hours_worked, hourly_rate):\n",
        "        self.hours_worked = hours_worked\n",
        "        self.hourly_rate = hourly_rate\n",
        "    \n",
        "    def calculate_salary(self):\n",
        "        return self.hours_worked * self.hourly_rate\n",
        "\n",
        "class SalariedEmployee(Employee):\n",
        "    def __init__(self, salary):\n",
        "        self.salary = salary\n",
        "    \n",
        "    def calculate_salary(self):\n",
        "        return self.salary"
      ],
      "metadata": {
        "id": "XulzPlQCpHrR"
      },
      "execution_count": 37,
      "outputs": []
    },
    {
      "cell_type": "code",
      "source": [
        "my_hourly_employee = HourlyEmployee(48, 17)"
      ],
      "metadata": {
        "id": "2XzD5ji-pHy3"
      },
      "execution_count": 38,
      "outputs": []
    },
    {
      "cell_type": "code",
      "source": [
        "print(\"Hourly employee salary:\", my_hourly_employee.calculate_salary())"
      ],
      "metadata": {
        "colab": {
          "base_uri": "https://localhost:8080/"
        },
        "id": "ZKC8Z7_epH14",
        "outputId": "32f67feb-ab2f-4486-fc9e-452c663fb9fd"
      },
      "execution_count": 39,
      "outputs": [
        {
          "output_type": "stream",
          "name": "stdout",
          "text": [
            "Hourly employee salary: 816\n"
          ]
        }
      ]
    },
    {
      "cell_type": "code",
      "source": [
        "my_salaried_employee = SalariedEmployee(8500)"
      ],
      "metadata": {
        "id": "mgEnC8TCpH4m"
      },
      "execution_count": 40,
      "outputs": []
    },
    {
      "cell_type": "code",
      "source": [
        "print(\"Salaried employee salary:\", my_salaried_employee.calculate_salary())"
      ],
      "metadata": {
        "colab": {
          "base_uri": "https://localhost:8080/"
        },
        "id": "KJez6VAqpH6-",
        "outputId": "49d7877e-963e-4bf2-9a23-549463d59f5f"
      },
      "execution_count": 41,
      "outputs": [
        {
          "output_type": "stream",
          "name": "stdout",
          "text": [
            "Salaried employee salary: 8500\n"
          ]
        }
      ]
    }
  ]
}