{
  "nbformat": 4,
  "nbformat_minor": 0,
  "metadata": {
    "colab": {
      "provenance": [],
      "authorship_tag": "ABX9TyOQ6zFg51/VEKEMkN80Zma1",
      "include_colab_link": true
    },
    "kernelspec": {
      "name": "python3",
      "display_name": "Python 3"
    },
    "language_info": {
      "name": "python"
    }
  },
  "cells": [
    {
      "cell_type": "markdown",
      "metadata": {
        "id": "view-in-github",
        "colab_type": "text"
      },
      "source": [
        "<a href=\"https://colab.research.google.com/github/cagriacr/python/blob/main/Lesson5.ipynb\" target=\"_parent\"><img src=\"https://colab.research.google.com/assets/colab-badge.svg\" alt=\"Open In Colab\"/></a>"
      ]
    },
    {
      "cell_type": "code",
      "execution_count": 1,
      "metadata": {
        "id": "sB8fpZIksZ-f"
      },
      "outputs": [],
      "source": [
        "class Tools:\n",
        "  tool=\"BurpSuite\"\n",
        "  kullanimAlani=\"Web Application\""
      ]
    },
    {
      "cell_type": "code",
      "source": [
        "user=Tools()"
      ],
      "metadata": {
        "id": "UcQWdOhZsa3j"
      },
      "execution_count": 2,
      "outputs": []
    },
    {
      "cell_type": "code",
      "source": [
        "user.tool"
      ],
      "metadata": {
        "colab": {
          "base_uri": "https://localhost:8080/",
          "height": 36
        },
        "id": "vH2atlg5sa6D",
        "outputId": "076e7aca-60a0-49d0-84cb-fc3fdb8de617"
      },
      "execution_count": 3,
      "outputs": [
        {
          "output_type": "execute_result",
          "data": {
            "text/plain": [
              "'BurpSuite'"
            ],
            "application/vnd.google.colaboratory.intrinsic+json": {
              "type": "string"
            }
          },
          "metadata": {},
          "execution_count": 3
        }
      ]
    },
    {
      "cell_type": "code",
      "source": [
        "user.kullanimAlani"
      ],
      "metadata": {
        "colab": {
          "base_uri": "https://localhost:8080/",
          "height": 36
        },
        "id": "WWY8272zsa-_",
        "outputId": "a11b77ff-3ba1-4f8e-91df-c90deb1bc6da"
      },
      "execution_count": 4,
      "outputs": [
        {
          "output_type": "execute_result",
          "data": {
            "text/plain": [
              "'Web Application'"
            ],
            "application/vnd.google.colaboratory.intrinsic+json": {
              "type": "string"
            }
          },
          "metadata": {},
          "execution_count": 4
        }
      ]
    },
    {
      "cell_type": "code",
      "source": [
        "class pep:\n",
        "\n",
        "  mterm=60\n",
        "  final=57\n",
        "\n",
        "  def assa(self):\n",
        "    mean=self.mdetrm*0.4+self.final*0.6\n",
        "    print(\"your mean is:\", mean)"
      ],
      "metadata": {
        "id": "LeI5Jdp6sbBj"
      },
      "execution_count": 20,
      "outputs": []
    },
    {
      "cell_type": "code",
      "source": [
        "p=pep()"
      ],
      "metadata": {
        "id": "EIyyjJdcsbF4"
      },
      "execution_count": 6,
      "outputs": []
    },
    {
      "cell_type": "code",
      "source": [
        "p.mterm"
      ],
      "metadata": {
        "colab": {
          "base_uri": "https://localhost:8080/"
        },
        "id": "_p7beTrnsbIY",
        "outputId": "4aa155d2-595a-45a2-c86d-e90cfba8b949"
      },
      "execution_count": 7,
      "outputs": [
        {
          "output_type": "execute_result",
          "data": {
            "text/plain": [
              "60"
            ]
          },
          "metadata": {},
          "execution_count": 7
        }
      ]
    },
    {
      "cell_type": "code",
      "source": [
        "p.final"
      ],
      "metadata": {
        "colab": {
          "base_uri": "https://localhost:8080/"
        },
        "id": "MArgip7-sbKy",
        "outputId": "4d0155d2-d6f4-4235-acb6-91eee3e7f3af"
      },
      "execution_count": 11,
      "outputs": [
        {
          "output_type": "execute_result",
          "data": {
            "text/plain": [
              "57"
            ]
          },
          "metadata": {},
          "execution_count": 11
        }
      ]
    },
    {
      "cell_type": "code",
      "source": [
        "class Employee:\n",
        "  def __init__(self,name, money,department):\n",
        "    self.name=name\n",
        "    self.money=money\n",
        "    self.department=department"
      ],
      "metadata": {
        "id": "1Ds8RJRgsbNh"
      },
      "execution_count": 26,
      "outputs": []
    },
    {
      "cell_type": "code",
      "source": [
        "e1=Employee(\"Çağrı\", \"4587$\",\"Cyber Security\")"
      ],
      "metadata": {
        "id": "Nr_r8ghQsbPr"
      },
      "execution_count": 28,
      "outputs": []
    },
    {
      "cell_type": "code",
      "source": [
        "e2=Employee(\"Erhan\", \"3987$\",\"Human Resources\")"
      ],
      "metadata": {
        "id": "ra9lDUBTsbST"
      },
      "execution_count": 29,
      "outputs": []
    },
    {
      "cell_type": "code",
      "source": [
        "e3=Employee(\"Yeliz\", \"5987$\",\"Management\")"
      ],
      "metadata": {
        "id": "uzzyduf6sbUw"
      },
      "execution_count": 30,
      "outputs": []
    },
    {
      "cell_type": "code",
      "source": [
        "print(e1.department)"
      ],
      "metadata": {
        "colab": {
          "base_uri": "https://localhost:8080/"
        },
        "id": "EPnrN32EsbXB",
        "outputId": "d6758569-d7fa-4035-a497-9325b4af2c94"
      },
      "execution_count": 34,
      "outputs": [
        {
          "output_type": "stream",
          "name": "stdout",
          "text": [
            "Cyber Security\n"
          ]
        }
      ]
    },
    {
      "cell_type": "code",
      "source": [
        "print(e3.name)"
      ],
      "metadata": {
        "colab": {
          "base_uri": "https://localhost:8080/"
        },
        "id": "im2J7rs_sbZR",
        "outputId": "045a9f90-5c52-4b52-90ad-cfdbe0791691"
      },
      "execution_count": 35,
      "outputs": [
        {
          "output_type": "stream",
          "name": "stdout",
          "text": [
            "Yeliz\n"
          ]
        }
      ]
    },
    {
      "cell_type": "code",
      "source": [
        "print(e2.money)"
      ],
      "metadata": {
        "colab": {
          "base_uri": "https://localhost:8080/"
        },
        "id": "bUI0ig5Ssbd5",
        "outputId": "285b671c-1b52-4d11-e17d-9136b14a79cf"
      },
      "execution_count": 36,
      "outputs": [
        {
          "output_type": "stream",
          "name": "stdout",
          "text": [
            "3987$\n"
          ]
        }
      ]
    },
    {
      "cell_type": "code",
      "source": [
        "print(e3.money,e2.name)"
      ],
      "metadata": {
        "colab": {
          "base_uri": "https://localhost:8080/"
        },
        "id": "vUQ3qXMSsbga",
        "outputId": "683fe7ff-5d46-4144-e4ba-a487932536ae"
      },
      "execution_count": 37,
      "outputs": [
        {
          "output_type": "stream",
          "name": "stdout",
          "text": [
            "5987$ Erhan\n"
          ]
        }
      ]
    },
    {
      "cell_type": "code",
      "source": [
        "print(e1.name,e1.department,e1.money)"
      ],
      "metadata": {
        "colab": {
          "base_uri": "https://localhost:8080/"
        },
        "id": "fkJ7zAbrsblJ",
        "outputId": "a130834e-eaaf-47c8-bffd-315b09c4a01b"
      },
      "execution_count": 40,
      "outputs": [
        {
          "output_type": "stream",
          "name": "stdout",
          "text": [
            "Çağrı Cyber Security 4587$\n"
          ]
        }
      ]
    },
    {
      "cell_type": "code",
      "source": [
        "print(e2.name,e2.department,e2.money)"
      ],
      "metadata": {
        "colab": {
          "base_uri": "https://localhost:8080/"
        },
        "id": "73bGWvEjsbny",
        "outputId": "0c45f64f-6de3-4e71-f6bd-c87be43bc3ed"
      },
      "execution_count": 41,
      "outputs": [
        {
          "output_type": "stream",
          "name": "stdout",
          "text": [
            "Erhan Human Resources 3987$\n"
          ]
        }
      ]
    },
    {
      "cell_type": "code",
      "source": [
        "print(e3.name,e3.department,e3.money)"
      ],
      "metadata": {
        "colab": {
          "base_uri": "https://localhost:8080/"
        },
        "id": "gu2168glsbqz",
        "outputId": "f1f7e2df-6d3e-4cc9-ba62-31852bca9090"
      },
      "execution_count": 42,
      "outputs": [
        {
          "output_type": "stream",
          "name": "stdout",
          "text": [
            "Yeliz Management 5987$\n"
          ]
        }
      ]
    },
    {
      "cell_type": "code",
      "source": [
        "class Phone:\n",
        "\n",
        "  def __init__(self, brand, model, x):\n",
        "    self.brand=brand\n",
        "    self.model=model\n",
        "    self.x=x\n",
        "    self.total=0\n",
        "\n",
        "  def welcome(self):\n",
        "    print(\"that is phone comparer\")\n",
        "\n",
        "  def getInformation(self):\n",
        "    lname=str(self.brand)+ \" \" + self.model+ \" \"+self.x\n",
        "\n",
        "    return lname.title()\n",
        "\n",
        "  def temp(self):\n",
        "    print(\"that phone is \"+ str(self.total)+ \"years old\")\n",
        "\n",
        "  def tempp(self, odd):\n",
        "\n",
        "    if old>=self.total:\n",
        "      self.total=old\n",
        "    else:\n",
        "      print(\"There is no change\")\n",
        "\n",
        "  def temppp(self, old):\n",
        "    self.total+=old"
      ],
      "metadata": {
        "id": "O2HXSj6Csbt-"
      },
      "execution_count": 54,
      "outputs": []
    },
    {
      "cell_type": "code",
      "source": [
        "myPhone= Phone(\"Apple\",\"iPhone\", \"14 Pro Max\")"
      ],
      "metadata": {
        "id": "4f0_fe6asbw0"
      },
      "execution_count": 47,
      "outputs": []
    },
    {
      "cell_type": "code",
      "source": [
        "myPhone.brand"
      ],
      "metadata": {
        "colab": {
          "base_uri": "https://localhost:8080/",
          "height": 36
        },
        "id": "MNCE2fE-sbzf",
        "outputId": "22a09c18-447e-4d07-baf2-f1e7b195af1f"
      },
      "execution_count": 56,
      "outputs": [
        {
          "output_type": "execute_result",
          "data": {
            "text/plain": [
              "'Apple'"
            ],
            "application/vnd.google.colaboratory.intrinsic+json": {
              "type": "string"
            }
          },
          "metadata": {},
          "execution_count": 56
        }
      ]
    },
    {
      "cell_type": "code",
      "source": [
        "myPhone.model"
      ],
      "metadata": {
        "colab": {
          "base_uri": "https://localhost:8080/",
          "height": 36
        },
        "id": "2gXj7Bk_sb11",
        "outputId": "1bd2cf6e-6e22-4219-a66c-3a0b8d1d52cf"
      },
      "execution_count": 57,
      "outputs": [
        {
          "output_type": "execute_result",
          "data": {
            "text/plain": [
              "'iPhone'"
            ],
            "application/vnd.google.colaboratory.intrinsic+json": {
              "type": "string"
            }
          },
          "metadata": {},
          "execution_count": 57
        }
      ]
    },
    {
      "cell_type": "code",
      "source": [
        "myPhone.x"
      ],
      "metadata": {
        "colab": {
          "base_uri": "https://localhost:8080/",
          "height": 36
        },
        "id": "dtQrXVXDsb4P",
        "outputId": "93b932ee-3e39-4537-ada1-07af708bd201"
      },
      "execution_count": 58,
      "outputs": [
        {
          "output_type": "execute_result",
          "data": {
            "text/plain": [
              "'14 Pro Max'"
            ],
            "application/vnd.google.colaboratory.intrinsic+json": {
              "type": "string"
            }
          },
          "metadata": {},
          "execution_count": 58
        }
      ]
    },
    {
      "cell_type": "code",
      "source": [
        "myPhone.getInformation()"
      ],
      "metadata": {
        "colab": {
          "base_uri": "https://localhost:8080/",
          "height": 36
        },
        "id": "n6W0pxiQsb6W",
        "outputId": "d97dec79-f9ea-4227-872c-01f4627fc388"
      },
      "execution_count": 55,
      "outputs": [
        {
          "output_type": "execute_result",
          "data": {
            "text/plain": [
              "'14 Pro Max Apple Iphone'"
            ],
            "application/vnd.google.colaboratory.intrinsic+json": {
              "type": "string"
            }
          },
          "metadata": {},
          "execution_count": 55
        }
      ]
    },
    {
      "cell_type": "code",
      "source": [],
      "metadata": {
        "id": "I4lhgpEwsb_S"
      },
      "execution_count": null,
      "outputs": []
    }
  ]
}