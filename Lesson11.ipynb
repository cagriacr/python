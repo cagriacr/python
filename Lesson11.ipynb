{
  "nbformat": 4,
  "nbformat_minor": 0,
  "metadata": {
    "colab": {
      "provenance": [],
      "authorship_tag": "ABX9TyOvSNZ+Y4S3x6HV9AC1GQJL",
      "include_colab_link": true
    },
    "kernelspec": {
      "name": "python3",
      "display_name": "Python 3"
    },
    "language_info": {
      "name": "python"
    }
  },
  "cells": [
    {
      "cell_type": "markdown",
      "metadata": {
        "id": "view-in-github",
        "colab_type": "text"
      },
      "source": [
        "<a href=\"https://colab.research.google.com/github/cagriacr/python/blob/main/Lesson11.ipynb\" target=\"_parent\"><img src=\"https://colab.research.google.com/assets/colab-badge.svg\" alt=\"Open In Colab\"/></a>"
      ]
    },
    {
      "cell_type": "code",
      "execution_count": 2,
      "metadata": {
        "colab": {
          "base_uri": "https://localhost:8080/"
        },
        "id": "SdZx54RvptiL",
        "outputId": "36ec9a87-7e6e-40fe-d347-685343adf0ee"
      },
      "outputs": [
        {
          "output_type": "stream",
          "name": "stdout",
          "text": [
            "Hi!\n"
          ]
        }
      ],
      "source": [
        "def Greeting():\n",
        "  print(\"Hi!\")\n",
        "\n",
        "Greeting()"
      ]
    },
    {
      "cell_type": "code",
      "source": [
        "def hello():\n",
        "    print(\"Hiii!!!!!!\")\n",
        "\n",
        "def my_decorator(func):\n",
        "    def wrap_func():\n",
        "        print(\"*******\")\n",
        "        func()\n",
        "        print(\"********\")\n",
        "    return wrap_func\n",
        "\n",
        "decorated_hello = my_decorator(hello)\n",
        "decorated_hello()\n"
      ],
      "metadata": {
        "colab": {
          "base_uri": "https://localhost:8080/"
        },
        "id": "ooh7KbXlpuPY",
        "outputId": "42742b71-e430-4e79-f8d0-de9cc2c6fc8b"
      },
      "execution_count": 5,
      "outputs": [
        {
          "output_type": "stream",
          "name": "stdout",
          "text": [
            "*******\n",
            "Hiii!!!!!!\n",
            "********\n"
          ]
        }
      ]
    },
    {
      "cell_type": "code",
      "source": [
        "@my_decorator\n",
        "def byby():\n",
        "  print(\" Bye Bye\")\n",
        "\n",
        "byby()"
      ],
      "metadata": {
        "colab": {
          "base_uri": "https://localhost:8080/"
        },
        "id": "kTdXTzlEpuR_",
        "outputId": "99e36e9d-aec3-42c0-84a9-66e4d02bddbe"
      },
      "execution_count": 7,
      "outputs": [
        {
          "output_type": "stream",
          "name": "stdout",
          "text": [
            "*******\n",
            " Bye Bye\n",
            "********\n"
          ]
        }
      ]
    },
    {
      "cell_type": "code",
      "source": [
        "def decorator(func):\n",
        "    def wrapper():\n",
        "        print(\"Fonksiyon ALINDI. \\n\")\n",
        "        func()\n",
        "        print(\"Fonksiyon BASTIRILDI.\")\n",
        "    return wrapper"
      ],
      "metadata": {
        "id": "kYI_JKjcpuUR"
      },
      "execution_count": 14,
      "outputs": []
    },
    {
      "cell_type": "code",
      "source": [
        "@decorator\n",
        "def Greeting():\n",
        "    print(\"Merhaba, dünya! \\n\")"
      ],
      "metadata": {
        "id": "K3u1FuzBpuW5"
      },
      "execution_count": 15,
      "outputs": []
    },
    {
      "cell_type": "code",
      "source": [
        "Greeting()"
      ],
      "metadata": {
        "colab": {
          "base_uri": "https://localhost:8080/"
        },
        "id": "4q1H5vhppuZH",
        "outputId": "04b7523a-c1e7-4cd9-95c8-b77745c2d789"
      },
      "execution_count": 16,
      "outputs": [
        {
          "output_type": "stream",
          "name": "stdout",
          "text": [
            "Fonksiyon ALINDI. \n",
            "\n",
            "Merhaba, dünya! \n",
            "\n",
            "Fonksiyon BASTIRILDI.\n"
          ]
        }
      ]
    },
    {
      "cell_type": "code",
      "source": [
        "class MyDecorator:\n",
        "    def __init__(self, func):\n",
        "        self.func = func\n",
        "\n",
        "    def __call__(self):\n",
        "        print(\"*******\")\n",
        "        self.func()\n",
        "        print(\"********\")\n",
        "\n",
        "@MyDecorator\n",
        "def hello():\n",
        "    print(\"hellooooo\")\n",
        "\n",
        "hello()"
      ],
      "metadata": {
        "colab": {
          "base_uri": "https://localhost:8080/"
        },
        "id": "tdCjAkHapubS",
        "outputId": "4bfa890f-a854-47cf-eba5-fc98390c7455"
      },
      "execution_count": 17,
      "outputs": [
        {
          "output_type": "stream",
          "name": "stdout",
          "text": [
            "*******\n",
            "hellooooo\n",
            "********\n"
          ]
        }
      ]
    },
    {
      "cell_type": "code",
      "source": [
        "class MultiplyDecorator:\n",
        "    def __init__(self, factor):\n",
        "        self.factor = factor\n",
        "\n",
        "    def __call__(self, func):\n",
        "        def wrapper(*args, **kwargs):\n",
        "            result = func(*args, **kwargs)\n",
        "            return result * self.factor\n",
        "        return wrapper\n",
        "\n",
        "@MultiplyDecorator(2)\n",
        "def multiply(x, y):\n",
        "    return x * y\n",
        "\n",
        "result = multiply(3, 4)\n",
        "print(result)\n"
      ],
      "metadata": {
        "colab": {
          "base_uri": "https://localhost:8080/"
        },
        "id": "yA107KG7pudl",
        "outputId": "f5991ed1-b578-4f2d-9f01-682df45da80f"
      },
      "execution_count": 18,
      "outputs": [
        {
          "output_type": "stream",
          "name": "stdout",
          "text": [
            "24\n"
          ]
        }
      ]
    },
    {
      "cell_type": "code",
      "source": [
        "def uppercase_decorator(func):\n",
        "    def wrapper(*args, **kwargs):\n",
        "        result = func(*args, **kwargs)\n",
        "        return result.upper()\n",
        "    return wrapper\n",
        "\n",
        "def bold_decorator(func):\n",
        "    def wrapper(*args, **kwargs):\n",
        "        result = func(*args, **kwargs)\n",
        "        return f\"<b>{result}</b>\"\n",
        "    return wrapper\n",
        "\n",
        "@bold_decorator\n",
        "@uppercase_decorator\n",
        "def say_hello(name):\n",
        "    return f\"merhabalar benim , {name}!\"\n",
        "\n",
        "result = say_hello(\"ismim çağrı\")\n",
        "print(result)\n"
      ],
      "metadata": {
        "colab": {
          "base_uri": "https://localhost:8080/"
        },
        "id": "yYoKAFX5puf5",
        "outputId": "04989fc2-73a7-4eed-b48b-6178ebbdaa6b"
      },
      "execution_count": 20,
      "outputs": [
        {
          "output_type": "stream",
          "name": "stdout",
          "text": [
            "<b>MERHABALAR BENIM , ISMIM ÇAĞRI!</b>\n"
          ]
        }
      ]
    },
    {
      "cell_type": "code",
      "source": [
        "class TimingDecorator:\n",
        "    def __init__(self, func):\n",
        "        self.func = func\n",
        "\n",
        "    def __call__(self, *args, **kwargs):\n",
        "        import time\n",
        "        start_time = time.time()\n",
        "        result = self.func(*args, **kwargs)\n",
        "        end_time = time.time()\n",
        "        execution_time = end_time - start_time\n",
        "        print(f\"Execution time of {self.func.__name__}: {execution_time} seconds\")\n",
        "        return result\n",
        "\n",
        "@TimingDecorator\n",
        "def fibonacci(n):\n",
        "    if n <= 1:\n",
        "        return n\n",
        "    else:\n",
        "        return fibonacci(n-1) + fibonacci(n-2)\n",
        "\n",
        "result = fibonacci(10)\n",
        "print(result)\n"
      ],
      "metadata": {
        "colab": {
          "base_uri": "https://localhost:8080/"
        },
        "id": "MN3DX12fpuiQ",
        "outputId": "9d4eae2c-072c-42e9-ccfe-e884f5411313"
      },
      "execution_count": 22,
      "outputs": [
        {
          "output_type": "stream",
          "name": "stdout",
          "text": [
            "Execution time of fibonacci: 9.5367431640625e-07 seconds\n",
            "Execution time of fibonacci: 1.9073486328125e-06 seconds\n",
            "Execution time of fibonacci: 0.0028357505798339844 seconds\n",
            "Execution time of fibonacci: 7.152557373046875e-07 seconds\n",
            "Execution time of fibonacci: 0.0028977394104003906 seconds\n",
            "Execution time of fibonacci: 7.152557373046875e-07 seconds\n",
            "Execution time of fibonacci: 7.152557373046875e-07 seconds\n",
            "Execution time of fibonacci: 6.175041198730469e-05 seconds\n",
            "Execution time of fibonacci: 0.0030105113983154297 seconds\n",
            "Execution time of fibonacci: 2.384185791015625e-07 seconds\n",
            "Execution time of fibonacci: 4.76837158203125e-07 seconds\n",
            "Execution time of fibonacci: 5.936622619628906e-05 seconds\n",
            "Execution time of fibonacci: 4.76837158203125e-07 seconds\n",
            "Execution time of fibonacci: 0.000118255615234375 seconds\n",
            "Execution time of fibonacci: 0.003164529800415039 seconds\n",
            "Execution time of fibonacci: 7.152557373046875e-07 seconds\n",
            "Execution time of fibonacci: 4.76837158203125e-07 seconds\n",
            "Execution time of fibonacci: 6.318092346191406e-05 seconds\n",
            "Execution time of fibonacci: 4.76837158203125e-07 seconds\n",
            "Execution time of fibonacci: 0.00010561943054199219 seconds\n",
            "Execution time of fibonacci: 2.384185791015625e-07 seconds\n",
            "Execution time of fibonacci: 4.76837158203125e-07 seconds\n",
            "Execution time of fibonacci: 3.2901763916015625e-05 seconds\n",
            "Execution time of fibonacci: 0.00017261505126953125 seconds\n",
            "Execution time of fibonacci: 0.009387731552124023 seconds\n",
            "Execution time of fibonacci: 4.76837158203125e-07 seconds\n",
            "Execution time of fibonacci: 4.76837158203125e-07 seconds\n",
            "Execution time of fibonacci: 4.982948303222656e-05 seconds\n",
            "Execution time of fibonacci: 2.384185791015625e-07 seconds\n",
            "Execution time of fibonacci: 8.320808410644531e-05 seconds\n",
            "Execution time of fibonacci: 2.384185791015625e-07 seconds\n",
            "Execution time of fibonacci: 4.76837158203125e-07 seconds\n",
            "Execution time of fibonacci: 3.266334533691406e-05 seconds\n",
            "Execution time of fibonacci: 0.0001475811004638672 seconds\n",
            "Execution time of fibonacci: 2.384185791015625e-07 seconds\n",
            "Execution time of fibonacci: 7.152557373046875e-07 seconds\n",
            "Execution time of fibonacci: 3.361701965332031e-05 seconds\n",
            "Execution time of fibonacci: 2.384185791015625e-07 seconds\n",
            "Execution time of fibonacci: 6.651878356933594e-05 seconds\n",
            "Execution time of fibonacci: 0.0002570152282714844 seconds\n",
            "Execution time of fibonacci: 0.009679555892944336 seconds\n",
            "Execution time of fibonacci: 4.76837158203125e-07 seconds\n",
            "Execution time of fibonacci: 2.384185791015625e-07 seconds\n",
            "Execution time of fibonacci: 3.528594970703125e-05 seconds\n",
            "Execution time of fibonacci: 2.384185791015625e-07 seconds\n",
            "Execution time of fibonacci: 6.628036499023438e-05 seconds\n",
            "Execution time of fibonacci: 7.152557373046875e-07 seconds\n",
            "Execution time of fibonacci: 4.76837158203125e-07 seconds\n",
            "Execution time of fibonacci: 3.4809112548828125e-05 seconds\n",
            "Execution time of fibonacci: 0.000133514404296875 seconds\n",
            "Execution time of fibonacci: 7.152557373046875e-07 seconds\n",
            "Execution time of fibonacci: 4.76837158203125e-07 seconds\n",
            "Execution time of fibonacci: 3.337860107421875e-05 seconds\n",
            "Execution time of fibonacci: 7.152557373046875e-07 seconds\n",
            "Execution time of fibonacci: 6.818771362304688e-05 seconds\n",
            "Execution time of fibonacci: 0.00023245811462402344 seconds\n",
            "Execution time of fibonacci: 4.76837158203125e-07 seconds\n",
            "Execution time of fibonacci: 4.76837158203125e-07 seconds\n",
            "Execution time of fibonacci: 3.337860107421875e-05 seconds\n",
            "Execution time of fibonacci: 2.384185791015625e-07 seconds\n",
            "Execution time of fibonacci: 6.699562072753906e-05 seconds\n",
            "Execution time of fibonacci: 4.76837158203125e-07 seconds\n",
            "Execution time of fibonacci: 4.76837158203125e-07 seconds\n",
            "Execution time of fibonacci: 3.2901763916015625e-05 seconds\n",
            "Execution time of fibonacci: 0.0001308917999267578 seconds\n",
            "Execution time of fibonacci: 0.00039505958557128906 seconds\n",
            "Execution time of fibonacci: 0.010108470916748047 seconds\n",
            "Execution time of fibonacci: 7.152557373046875e-07 seconds\n",
            "Execution time of fibonacci: 4.76837158203125e-07 seconds\n",
            "Execution time of fibonacci: 3.504753112792969e-05 seconds\n",
            "Execution time of fibonacci: 4.76837158203125e-07 seconds\n",
            "Execution time of fibonacci: 6.723403930664062e-05 seconds\n",
            "Execution time of fibonacci: 4.76837158203125e-07 seconds\n",
            "Execution time of fibonacci: 4.76837158203125e-07 seconds\n",
            "Execution time of fibonacci: 4.410743713378906e-05 seconds\n",
            "Execution time of fibonacci: 0.00014209747314453125 seconds\n",
            "Execution time of fibonacci: 2.384185791015625e-07 seconds\n",
            "Execution time of fibonacci: 4.76837158203125e-07 seconds\n",
            "Execution time of fibonacci: 3.7670135498046875e-05 seconds\n",
            "Execution time of fibonacci: 2.384185791015625e-07 seconds\n",
            "Execution time of fibonacci: 6.723403930664062e-05 seconds\n",
            "Execution time of fibonacci: 0.00024008750915527344 seconds\n",
            "Execution time of fibonacci: 4.76837158203125e-07 seconds\n",
            "Execution time of fibonacci: 7.152557373046875e-07 seconds\n",
            "Execution time of fibonacci: 2.956390380859375e-05 seconds\n",
            "Execution time of fibonacci: 4.76837158203125e-07 seconds\n",
            "Execution time of fibonacci: 0.023288726806640625 seconds\n",
            "Execution time of fibonacci: 7.152557373046875e-07 seconds\n",
            "Execution time of fibonacci: 7.152557373046875e-07 seconds\n",
            "Execution time of fibonacci: 7.05718994140625e-05 seconds\n",
            "Execution time of fibonacci: 0.02348470687866211 seconds\n",
            "Execution time of fibonacci: 0.023761510848999023 seconds\n",
            "Execution time of fibonacci: 1.430511474609375e-06 seconds\n",
            "Execution time of fibonacci: 2.384185791015625e-06 seconds\n",
            "Execution time of fibonacci: 0.0049915313720703125 seconds\n",
            "Execution time of fibonacci: 1.430511474609375e-06 seconds\n",
            "Execution time of fibonacci: 0.005051136016845703 seconds\n",
            "Execution time of fibonacci: 4.76837158203125e-07 seconds\n",
            "Execution time of fibonacci: 7.152557373046875e-07 seconds\n",
            "Execution time of fibonacci: 5.698204040527344e-05 seconds\n",
            "Execution time of fibonacci: 0.005160808563232422 seconds\n",
            "Execution time of fibonacci: 4.76837158203125e-07 seconds\n",
            "Execution time of fibonacci: 9.5367431640625e-07 seconds\n",
            "Execution time of fibonacci: 6.246566772460938e-05 seconds\n",
            "Execution time of fibonacci: 4.76837158203125e-07 seconds\n",
            "Execution time of fibonacci: 0.00011515617370605469 seconds\n",
            "Execution time of fibonacci: 0.00532841682434082 seconds\n",
            "Execution time of fibonacci: 0.02914118766784668 seconds\n",
            "Execution time of fibonacci: 0.03929424285888672 seconds\n",
            "Execution time of fibonacci: 4.76837158203125e-07 seconds\n",
            "Execution time of fibonacci: 4.76837158203125e-07 seconds\n",
            "Execution time of fibonacci: 6.961822509765625e-05 seconds\n",
            "Execution time of fibonacci: 4.76837158203125e-07 seconds\n",
            "Execution time of fibonacci: 0.00013756752014160156 seconds\n",
            "Execution time of fibonacci: 4.76837158203125e-07 seconds\n",
            "Execution time of fibonacci: 4.76837158203125e-07 seconds\n",
            "Execution time of fibonacci: 5.412101745605469e-05 seconds\n",
            "Execution time of fibonacci: 0.0002455711364746094 seconds\n",
            "Execution time of fibonacci: 4.76837158203125e-07 seconds\n",
            "Execution time of fibonacci: 9.5367431640625e-07 seconds\n",
            "Execution time of fibonacci: 0.010526418685913086 seconds\n",
            "Execution time of fibonacci: 1.430511474609375e-06 seconds\n",
            "Execution time of fibonacci: 0.010656595230102539 seconds\n",
            "Execution time of fibonacci: 0.010955572128295898 seconds\n",
            "Execution time of fibonacci: 4.76837158203125e-07 seconds\n",
            "Execution time of fibonacci: 7.152557373046875e-07 seconds\n",
            "Execution time of fibonacci: 7.176399230957031e-05 seconds\n",
            "Execution time of fibonacci: 9.5367431640625e-07 seconds\n",
            "Execution time of fibonacci: 0.0001347064971923828 seconds\n",
            "Execution time of fibonacci: 4.76837158203125e-07 seconds\n",
            "Execution time of fibonacci: 7.152557373046875e-07 seconds\n",
            "Execution time of fibonacci: 5.626678466796875e-05 seconds\n",
            "Execution time of fibonacci: 0.0002543926239013672 seconds\n",
            "Execution time of fibonacci: 0.01126241683959961 seconds\n",
            "Execution time of fibonacci: 4.76837158203125e-07 seconds\n",
            "Execution time of fibonacci: 4.76837158203125e-07 seconds\n",
            "Execution time of fibonacci: 5.3882598876953125e-05 seconds\n",
            "Execution time of fibonacci: 7.152557373046875e-07 seconds\n",
            "Execution time of fibonacci: 0.00010704994201660156 seconds\n",
            "Execution time of fibonacci: 7.152557373046875e-07 seconds\n",
            "Execution time of fibonacci: 4.76837158203125e-07 seconds\n",
            "Execution time of fibonacci: 5.3882598876953125e-05 seconds\n",
            "Execution time of fibonacci: 0.00021982192993164062 seconds\n",
            "Execution time of fibonacci: 7.152557373046875e-07 seconds\n",
            "Execution time of fibonacci: 7.152557373046875e-07 seconds\n",
            "Execution time of fibonacci: 5.316734313964844e-05 seconds\n",
            "Execution time of fibonacci: 4.76837158203125e-07 seconds\n",
            "Execution time of fibonacci: 0.00010371208190917969 seconds\n",
            "Execution time of fibonacci: 0.0003752708435058594 seconds\n",
            "Execution time of fibonacci: 0.011691093444824219 seconds\n",
            "Execution time of fibonacci: 4.76837158203125e-07 seconds\n",
            "Execution time of fibonacci: 7.152557373046875e-07 seconds\n",
            "Execution time of fibonacci: 5.173683166503906e-05 seconds\n",
            "Execution time of fibonacci: 4.76837158203125e-07 seconds\n",
            "Execution time of fibonacci: 0.00010538101196289062 seconds\n",
            "Execution time of fibonacci: 4.76837158203125e-07 seconds\n",
            "Execution time of fibonacci: 7.152557373046875e-07 seconds\n",
            "Execution time of fibonacci: 5.269050598144531e-05 seconds\n",
            "Execution time of fibonacci: 0.0002086162567138672 seconds\n",
            "Execution time of fibonacci: 4.76837158203125e-07 seconds\n",
            "Execution time of fibonacci: 7.152557373046875e-07 seconds\n",
            "Execution time of fibonacci: 5.1975250244140625e-05 seconds\n",
            "Execution time of fibonacci: 4.76837158203125e-07 seconds\n",
            "Execution time of fibonacci: 0.00010943412780761719 seconds\n",
            "Execution time of fibonacci: 0.0003662109375 seconds\n",
            "Execution time of fibonacci: 2.384185791015625e-07 seconds\n",
            "Execution time of fibonacci: 7.152557373046875e-07 seconds\n",
            "Execution time of fibonacci: 5.4836273193359375e-05 seconds\n",
            "Execution time of fibonacci: 4.76837158203125e-07 seconds\n",
            "Execution time of fibonacci: 0.016867637634277344 seconds\n",
            "Execution time of fibonacci: 4.76837158203125e-07 seconds\n",
            "Execution time of fibonacci: 7.152557373046875e-07 seconds\n",
            "Execution time of fibonacci: 9.059906005859375e-05 seconds\n",
            "Execution time of fibonacci: 0.017076492309570312 seconds\n",
            "Execution time of fibonacci: 0.01750469207763672 seconds\n",
            "Execution time of fibonacci: 0.02924823760986328 seconds\n",
            "Execution time of fibonacci: 0.06859421730041504 seconds\n",
            "55\n"
          ]
        }
      ]
    }
  ]
}