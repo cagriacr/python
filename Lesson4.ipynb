{
  "nbformat": 4,
  "nbformat_minor": 0,
  "metadata": {
    "colab": {
      "provenance": [],
      "authorship_tag": "ABX9TyMHMhWgLaU2L1qQ/xPWek1J",
      "include_colab_link": true
    },
    "kernelspec": {
      "name": "python3",
      "display_name": "Python 3"
    },
    "language_info": {
      "name": "python"
    }
  },
  "cells": [
    {
      "cell_type": "markdown",
      "metadata": {
        "id": "view-in-github",
        "colab_type": "text"
      },
      "source": [
        "<a href=\"https://colab.research.google.com/github/cagriacr/python/blob/main/Lesson4.ipynb\" target=\"_parent\"><img src=\"https://colab.research.google.com/assets/colab-badge.svg\" alt=\"Open In Colab\"/></a>"
      ]
    },
    {
      "cell_type": "code",
      "execution_count": 1,
      "metadata": {
        "colab": {
          "base_uri": "https://localhost:8080/"
        },
        "id": "A7lnodKT6v8F",
        "outputId": "ad01aff4-205a-4c2a-ea95-efa14dc34a9a"
      },
      "outputs": [
        {
          "output_type": "stream",
          "name": "stdout",
          "text": [
            "cagri\n",
            "emre\n",
            "ömer\n"
          ]
        }
      ],
      "source": [
        "pep=[\"cagri\", \"emre\", \"ömer\"]\n",
        "for x in pep :\n",
        "  print(x)"
      ]
    },
    {
      "cell_type": "code",
      "source": [
        "pep=[\"cagri\", \"emre\", \"ömer\"]\n",
        "for x in pep :\n",
        "  print(f\"{x.title()} has join the game\")"
      ],
      "metadata": {
        "colab": {
          "base_uri": "https://localhost:8080/"
        },
        "id": "FlSwk8z06xea",
        "outputId": "df6960fc-53c3-43a0-e86c-07b7eab5ef90"
      },
      "execution_count": 6,
      "outputs": [
        {
          "output_type": "stream",
          "name": "stdout",
          "text": [
            "Cagri has join the game\n",
            "Emre has join the game\n",
            "Ömer has join the game\n"
          ]
        }
      ]
    },
    {
      "cell_type": "code",
      "source": [
        "cubes=[]\n",
        "for x in range(1,11):\n",
        "  cub= x**3\n",
        "  cubes.append(cub)\n",
        "  print(cubes)\n"
      ],
      "metadata": {
        "colab": {
          "base_uri": "https://localhost:8080/"
        },
        "id": "yPeYXnC06xhl",
        "outputId": "1d3611ba-1a67-45af-d4af-f882ac8dab50"
      },
      "execution_count": 8,
      "outputs": [
        {
          "output_type": "stream",
          "name": "stdout",
          "text": [
            "[1]\n",
            "[1, 8]\n",
            "[1, 8, 27]\n",
            "[1, 8, 27, 64]\n",
            "[1, 8, 27, 64, 125]\n",
            "[1, 8, 27, 64, 125, 216]\n",
            "[1, 8, 27, 64, 125, 216, 343]\n",
            "[1, 8, 27, 64, 125, 216, 343, 512]\n",
            "[1, 8, 27, 64, 125, 216, 343, 512, 729]\n",
            "[1, 8, 27, 64, 125, 216, 343, 512, 729, 1000]\n"
          ]
        }
      ]
    },
    {
      "cell_type": "code",
      "source": [
        "num=list(range(187,198))\n",
        "print(num)"
      ],
      "metadata": {
        "colab": {
          "base_uri": "https://localhost:8080/"
        },
        "id": "9Rup1dHX6xj8",
        "outputId": "f4db26fb-0f35-4d68-f9e5-cbef3b18a39e"
      },
      "execution_count": 10,
      "outputs": [
        {
          "output_type": "stream",
          "name": "stdout",
          "text": [
            "[187, 188, 189, 190, 191, 192, 193, 194, 195, 196, 197]\n"
          ]
        }
      ]
    },
    {
      "cell_type": "code",
      "source": [
        "min(num)"
      ],
      "metadata": {
        "colab": {
          "base_uri": "https://localhost:8080/"
        },
        "id": "X_gGj4iF6xl6",
        "outputId": "5ba0aad6-9ece-42f5-d040-4b49e6c9a471"
      },
      "execution_count": 11,
      "outputs": [
        {
          "output_type": "execute_result",
          "data": {
            "text/plain": [
              "187"
            ]
          },
          "metadata": {},
          "execution_count": 11
        }
      ]
    },
    {
      "cell_type": "code",
      "source": [
        "max(num)"
      ],
      "metadata": {
        "colab": {
          "base_uri": "https://localhost:8080/"
        },
        "id": "oLpluoFr6xoU",
        "outputId": "a1636f47-5be7-41c4-db2e-0046eedf34ee"
      },
      "execution_count": 12,
      "outputs": [
        {
          "output_type": "execute_result",
          "data": {
            "text/plain": [
              "197"
            ]
          },
          "metadata": {},
          "execution_count": 12
        }
      ]
    },
    {
      "cell_type": "code",
      "source": [
        "sum(num)"
      ],
      "metadata": {
        "colab": {
          "base_uri": "https://localhost:8080/"
        },
        "id": "6zcud9UM6xqx",
        "outputId": "5f192f89-43e6-4902-b900-4d5e4185a9ce"
      },
      "execution_count": 13,
      "outputs": [
        {
          "output_type": "execute_result",
          "data": {
            "text/plain": [
              "2112"
            ]
          },
          "metadata": {},
          "execution_count": 13
        }
      ]
    },
    {
      "cell_type": "code",
      "source": [
        "cubes=[x**3 for x in range(2,8)]\n",
        "print(cubes)"
      ],
      "metadata": {
        "colab": {
          "base_uri": "https://localhost:8080/"
        },
        "id": "u7VW5LM06xtW",
        "outputId": "bceefabc-e28b-4483-f428-bad265028e3e"
      },
      "execution_count": 14,
      "outputs": [
        {
          "output_type": "stream",
          "name": "stdout",
          "text": [
            "[8, 27, 64, 125, 216, 343]\n"
          ]
        }
      ]
    },
    {
      "cell_type": "code",
      "source": [
        "x=[\"EnginAltanDüzyatan\", \"MehmetAliAlabora\", \"MehmetAliErbil\", \"MehmetAliBirand\"]"
      ],
      "metadata": {
        "id": "ZowwzHuz6xvv"
      },
      "execution_count": 15,
      "outputs": []
    },
    {
      "cell_type": "code",
      "source": [
        "print(x)"
      ],
      "metadata": {
        "colab": {
          "base_uri": "https://localhost:8080/"
        },
        "id": "753kBQP-6xyU",
        "outputId": "84283799-4e56-4ced-adc0-10d04f403613"
      },
      "execution_count": 16,
      "outputs": [
        {
          "output_type": "stream",
          "name": "stdout",
          "text": [
            "['EnginAltanDüzyatan', 'MehmetAliAlabora', 'MehmetAliErbil', 'MehmetAliBirand']\n"
          ]
        }
      ]
    },
    {
      "cell_type": "code",
      "source": [
        "print(x[0:1])"
      ],
      "metadata": {
        "colab": {
          "base_uri": "https://localhost:8080/"
        },
        "id": "WkG_ThzX6x0z",
        "outputId": "92e50aa3-76e3-45fe-f5b1-f1bea110f6c9"
      },
      "execution_count": 17,
      "outputs": [
        {
          "output_type": "stream",
          "name": "stdout",
          "text": [
            "['EnginAltanDüzyatan']\n"
          ]
        }
      ]
    },
    {
      "cell_type": "code",
      "source": [
        "print(x[2:5])"
      ],
      "metadata": {
        "colab": {
          "base_uri": "https://localhost:8080/"
        },
        "id": "NWRopQK16x3R",
        "outputId": "299aa0aa-bfd1-4ba4-9151-9ea330f0795f"
      },
      "execution_count": 19,
      "outputs": [
        {
          "output_type": "stream",
          "name": "stdout",
          "text": [
            "['MehmetAliErbil', 'MehmetAliBirand']\n"
          ]
        }
      ]
    },
    {
      "cell_type": "code",
      "source": [
        "print(x[:2])"
      ],
      "metadata": {
        "colab": {
          "base_uri": "https://localhost:8080/"
        },
        "id": "QvSNvw9u6yBQ",
        "outputId": "6f680875-510a-4b5d-91e8-a05744594f8e"
      },
      "execution_count": 20,
      "outputs": [
        {
          "output_type": "stream",
          "name": "stdout",
          "text": [
            "['EnginAltanDüzyatan', 'MehmetAliAlabora']\n"
          ]
        }
      ]
    },
    {
      "cell_type": "code",
      "source": [
        "print(x[:0])"
      ],
      "metadata": {
        "colab": {
          "base_uri": "https://localhost:8080/"
        },
        "id": "IGby2BDk6yGp",
        "outputId": "ab37e592-9084-485c-87d6-2db1a4b1b2cd"
      },
      "execution_count": 21,
      "outputs": [
        {
          "output_type": "stream",
          "name": "stdout",
          "text": [
            "[]\n"
          ]
        }
      ]
    },
    {
      "cell_type": "code",
      "source": [
        "print(x[2:])"
      ],
      "metadata": {
        "colab": {
          "base_uri": "https://localhost:8080/"
        },
        "id": "iPxfxcb16yJR",
        "outputId": "0a9c1346-dd65-49b4-e510-5bb80355f186"
      },
      "execution_count": 22,
      "outputs": [
        {
          "output_type": "stream",
          "name": "stdout",
          "text": [
            "['MehmetAliErbil', 'MehmetAliBirand']\n"
          ]
        }
      ]
    },
    {
      "cell_type": "code",
      "source": [
        "mySweet=[\"pasta\", \"kek\", \"san sebastian\", \"çikolata\"]\n",
        "oldmySweet=mySweet[:]\n",
        "print(\"My fav sweet now:\"); print(mySweet); print(\"Also my old fav sweet\"); print(oldmySweet)\n",
        "\n"
      ],
      "metadata": {
        "colab": {
          "base_uri": "https://localhost:8080/"
        },
        "id": "tCkOAX006yLq",
        "outputId": "194a37f8-8be2-4b69-b769-0d8d51248e03"
      },
      "execution_count": 36,
      "outputs": [
        {
          "output_type": "stream",
          "name": "stdout",
          "text": [
            "My fav sweet now:\n",
            "['pasta', 'kek', 'san sebastian', 'çikolata']\n",
            "Also my old fav sweet\n",
            "['pasta', 'kek', 'san sebastian', 'çikolata']\n"
          ]
        }
      ]
    },
    {
      "cell_type": "code",
      "source": [
        "print(oldmySweet)"
      ],
      "metadata": {
        "colab": {
          "base_uri": "https://localhost:8080/"
        },
        "id": "hAP_Acuw6yOS",
        "outputId": "1da47600-ed84-4eb9-8883-c4d3092a7ddd"
      },
      "execution_count": 37,
      "outputs": [
        {
          "output_type": "stream",
          "name": "stdout",
          "text": [
            "['pasta', 'kek', 'san sebastian', 'çikolata']\n"
          ]
        }
      ]
    },
    {
      "cell_type": "code",
      "source": [
        "def function():\n",
        "  print(\"I like programming\")"
      ],
      "metadata": {
        "id": "T070Q5Fb6yRF"
      },
      "execution_count": 39,
      "outputs": []
    },
    {
      "cell_type": "code",
      "source": [
        "function()"
      ],
      "metadata": {
        "colab": {
          "base_uri": "https://localhost:8080/"
        },
        "id": "J2BbfTKa6yTo",
        "outputId": "a0dad138-68fb-4d6a-ff14-1ef44e1f16f4"
      },
      "execution_count": 41,
      "outputs": [
        {
          "output_type": "stream",
          "name": "stdout",
          "text": [
            "I like programming\n"
          ]
        }
      ]
    },
    {
      "cell_type": "code",
      "source": [
        "def write(name,surname):\n",
        "  print(\"your full name:\", name,\"\",surname)"
      ],
      "metadata": {
        "id": "xKuTr7oX6yWQ"
      },
      "execution_count": 42,
      "outputs": []
    },
    {
      "cell_type": "code",
      "source": [
        "write(\"Çağrı\",\"Acer\")"
      ],
      "metadata": {
        "colab": {
          "base_uri": "https://localhost:8080/"
        },
        "id": "uueJlMJr6yY4",
        "outputId": "4164ad1a-5c8d-4879-9ba9-424a0440d495"
      },
      "execution_count": 43,
      "outputs": [
        {
          "output_type": "stream",
          "name": "stdout",
          "text": [
            "your full name: Çağrı  Acer\n"
          ]
        }
      ]
    },
    {
      "cell_type": "code",
      "source": [
        "def describePet(animal_type, pet_name):\n",
        "  print(f\"\\nI have a {animal_type}.\")\n",
        "  print(f\" {pet_name} is everything for me \")"
      ],
      "metadata": {
        "id": "yXbwdZPU6ybg"
      },
      "execution_count": 48,
      "outputs": []
    },
    {
      "cell_type": "code",
      "source": [
        "describePet(\"Hippo\", \"Boncuk\")\n"
      ],
      "metadata": {
        "colab": {
          "base_uri": "https://localhost:8080/"
        },
        "id": "cij62BGd6yeV",
        "outputId": "7434cc23-d590-4fbf-f232-031f789e3aeb"
      },
      "execution_count": 49,
      "outputs": [
        {
          "output_type": "stream",
          "name": "stdout",
          "text": [
            "\n",
            "I have a Hippo.\n",
            " Boncuk is everything for me \n"
          ]
        }
      ]
    },
    {
      "cell_type": "code",
      "source": [
        "\n",
        "  def a(g1,g2,g3):\n",
        "    print(\"mx \\n\" + g3)"
      ],
      "metadata": {
        "id": "pLweRY4GT0uH"
      },
      "execution_count": 66,
      "outputs": []
    },
    {
      "cell_type": "code",
      "source": [
        "a(g1=\"g1\", g2=\"g2\", g3=\"g3\")"
      ],
      "metadata": {
        "colab": {
          "base_uri": "https://localhost:8080/"
        },
        "id": "kOR7X6cfT0w5",
        "outputId": "c215952e-c1e7-4fde-e9ee-74c96e49999a"
      },
      "execution_count": 67,
      "outputs": [
        {
          "output_type": "stream",
          "name": "stdout",
          "text": [
            "mx \n",
            "g3\n"
          ]
        }
      ]
    },
    {
      "cell_type": "code",
      "source": [
        "def aks(**pep):\n",
        "  print(\"pep name: \" + pep[\"name\"])"
      ],
      "metadata": {
        "id": "izdZexWTT0zm"
      },
      "execution_count": 68,
      "outputs": []
    },
    {
      "cell_type": "code",
      "source": [
        "aks(name=\"ÇAĞRI\")"
      ],
      "metadata": {
        "colab": {
          "base_uri": "https://localhost:8080/"
        },
        "id": "0fcas-E7T02j",
        "outputId": "29b2537b-80ea-423d-b20b-8006517ad7da"
      },
      "execution_count": 70,
      "outputs": [
        {
          "output_type": "stream",
          "name": "stdout",
          "text": [
            "pep name: ÇAĞRI\n"
          ]
        }
      ]
    },
    {
      "cell_type": "code",
      "source": [
        "x=int(input(\"enter the x value:\"))\n",
        "y=int(input(\"enter the y value:\"))"
      ],
      "metadata": {
        "colab": {
          "base_uri": "https://localhost:8080/"
        },
        "id": "SCZ-WqzUT051",
        "outputId": "57ea0579-3e94-4133-c7e5-0b4e452e5b17"
      },
      "execution_count": 71,
      "outputs": [
        {
          "name": "stdout",
          "output_type": "stream",
          "text": [
            "enter the x value:10\n",
            "enter the y value:20\n"
          ]
        }
      ]
    },
    {
      "cell_type": "code",
      "source": [
        "def findGreat(x,y):\n",
        "  if x<y:\n",
        "    return y\n",
        "  else:\n",
        "    return x\n"
      ],
      "metadata": {
        "id": "yDcWW7UYT085"
      },
      "execution_count": 79,
      "outputs": []
    },
    {
      "cell_type": "code",
      "source": [
        "ab=findGreat(x,y)\n",
        "print(ab)\n"
      ],
      "metadata": {
        "colab": {
          "base_uri": "https://localhost:8080/"
        },
        "id": "IQ4TVBETT1AB",
        "outputId": "e93234bd-a014-4a1f-82ab-d4c83b18ecc1"
      },
      "execution_count": 80,
      "outputs": [
        {
          "output_type": "stream",
          "name": "stdout",
          "text": [
            "20\n"
          ]
        }
      ]
    },
    {
      "cell_type": "code",
      "source": [
        "\n",
        "def passing(midterm, final):\n",
        "  meanMidterm=midterm*0.4\n",
        "  meanFinal= final*0.6\n",
        "  meanGeneral= meanMidterm+meanFinal\n",
        "  if meanGeneral>45 and meanGeneral<60:\n",
        "    print(\"Your meanGeneral:\", meanGeneral)\n",
        "    print(\"You pass but you have to work hard\")\n",
        "  elif meanGeneral>60:\n",
        "    print(\"Your meanGeneral:\", meanGeneral)\n",
        "    print(\"You pass the lesson and dont worry\")\n",
        "  else: \n",
        "    print(\"You dont pass\")\n",
        "    print(\"Your meanGeneral:\", meanGeneral)"
      ],
      "metadata": {
        "id": "xQXmiFAbT1Dx"
      },
      "execution_count": 82,
      "outputs": []
    },
    {
      "cell_type": "code",
      "source": [
        "midterm=int(input(\"enter the midterm score \\n\"))\n",
        "final=int(input(\"enter the final score \\n\"))"
      ],
      "metadata": {
        "colab": {
          "base_uri": "https://localhost:8080/"
        },
        "id": "Wbe9gfi2T1HC",
        "outputId": "38dfa1fa-9371-4f44-c13e-1079503d801f"
      },
      "execution_count": 84,
      "outputs": [
        {
          "name": "stdout",
          "output_type": "stream",
          "text": [
            "enter the midterm score \n",
            "15\n",
            "enter the final score \n",
            "75\n"
          ]
        }
      ]
    },
    {
      "cell_type": "code",
      "source": [
        "passing(midterm,final)"
      ],
      "metadata": {
        "colab": {
          "base_uri": "https://localhost:8080/"
        },
        "id": "CH5QLmEXT1Kf",
        "outputId": "d6eee4d9-05c5-41af-f12c-2b606181ad14"
      },
      "execution_count": 85,
      "outputs": [
        {
          "output_type": "stream",
          "name": "stdout",
          "text": [
            "Your meanGeneral: 51.0\n",
            "You pass but you have to work hard\n"
          ]
        }
      ]
    },
    {
      "cell_type": "code",
      "source": [
        "def calculationFactorial():\n",
        "  number=int(input(\"Write a number:\"))\n",
        "  factorial =1\n",
        "\n",
        "  if number>=0:\n",
        "    for i in range(1,number+1):\n",
        "      factorial= factorial*i\n",
        "    print(\"factorial :\", factorial)\n",
        "  else:\n",
        "    print(\"Dont write nagative number\") "
      ],
      "metadata": {
        "id": "tjjRMqNC6yg8"
      },
      "execution_count": 87,
      "outputs": []
    },
    {
      "cell_type": "code",
      "source": [
        "calculationFactorial()\n"
      ],
      "metadata": {
        "colab": {
          "base_uri": "https://localhost:8080/"
        },
        "id": "Y1fstOdFXbbT",
        "outputId": "b623d8da-c154-4b86-feb6-4acf6a2abf41"
      },
      "execution_count": 88,
      "outputs": [
        {
          "output_type": "stream",
          "name": "stdout",
          "text": [
            "Write a number:11\n",
            "factorial : 39916800\n"
          ]
        }
      ]
    },
    {
      "cell_type": "code",
      "source": [
        "calculationFactorial()\n"
      ],
      "metadata": {
        "colab": {
          "base_uri": "https://localhost:8080/"
        },
        "id": "bzqnHW1x6ykU",
        "outputId": "c7ba3878-1b7e-478d-94ff-7bd338188f56"
      },
      "execution_count": 89,
      "outputs": [
        {
          "output_type": "stream",
          "name": "stdout",
          "text": [
            "Write a number:-5\n",
            "Dont write nagative number\n"
          ]
        }
      ]
    }
  ]
}