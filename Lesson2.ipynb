{
  "nbformat": 4,
  "nbformat_minor": 0,
  "metadata": {
    "colab": {
      "provenance": [],
      "authorship_tag": "ABX9TyMGOHzu2ebysqtBDS08hdhZ",
      "include_colab_link": true
    },
    "kernelspec": {
      "name": "python3",
      "display_name": "Python 3"
    },
    "language_info": {
      "name": "python"
    }
  },
  "cells": [
    {
      "cell_type": "markdown",
      "metadata": {
        "id": "view-in-github",
        "colab_type": "text"
      },
      "source": [
        "<a href=\"https://colab.research.google.com/github/cagriacr/python/blob/main/Lesson2.ipynb\" target=\"_parent\"><img src=\"https://colab.research.google.com/assets/colab-badge.svg\" alt=\"Open In Colab\"/></a>"
      ]
    },
    {
      "cell_type": "code",
      "execution_count": null,
      "metadata": {
        "id": "WLZYkRS6WFbi"
      },
      "outputs": [],
      "source": [
        "# Lesson 2 \n"
      ]
    },
    {
      "cell_type": "code",
      "source": [
        "fname= \"Çağrı\"\n",
        "lname= \"Acer\"\n",
        "wname= f\"{fname} {lname}\"\n",
        "print(wname)"
      ],
      "metadata": {
        "colab": {
          "base_uri": "https://localhost:8080/"
        },
        "id": "qfC1wOgAWKUG",
        "outputId": "975a707b-0a33-49e8-9aa8-e52def95eba1"
      },
      "execution_count": null,
      "outputs": [
        {
          "output_type": "stream",
          "name": "stdout",
          "text": [
            "Çağrı Acer\n"
          ]
        }
      ]
    },
    {
      "cell_type": "code",
      "source": [
        "print(f\"King, {wname.title()}\")"
      ],
      "metadata": {
        "colab": {
          "base_uri": "https://localhost:8080/"
        },
        "id": "4L7Mols6WKYw",
        "outputId": "616a1229-313d-432e-f8d2-491720a313b5"
      },
      "execution_count": null,
      "outputs": [
        {
          "output_type": "stream",
          "name": "stdout",
          "text": [
            "King, Çağrı Acer\n"
          ]
        }
      ]
    },
    {
      "cell_type": "code",
      "source": [
        "print(\"Tools: Metasploit \\n BurpSuite\\n    nmap\")"
      ],
      "metadata": {
        "colab": {
          "base_uri": "https://localhost:8080/"
        },
        "id": "LcIzU5pOWKZq",
        "outputId": "0fa290c5-f3c5-4aa9-eb53-e5230ba3cad7"
      },
      "execution_count": null,
      "outputs": [
        {
          "output_type": "stream",
          "name": "stdout",
          "text": [
            "Tools: Metasploit \n",
            " BurpSuite\n",
            "    nmap\n"
          ]
        }
      ]
    },
    {
      "cell_type": "code",
      "source": [
        "print(\"Tools: \\nMetasploit\\nBurpSuite\\nnmap\")"
      ],
      "metadata": {
        "colab": {
          "base_uri": "https://localhost:8080/"
        },
        "id": "pXT9BV9nWKaw",
        "outputId": "a79329ef-e1c9-4f17-8d56-04d500daefcc"
      },
      "execution_count": null,
      "outputs": [
        {
          "output_type": "stream",
          "name": "stdout",
          "text": [
            "Tools: \n",
            "Metasploit\n",
            "BurpSuite\n",
            "nmap\n"
          ]
        }
      ]
    },
    {
      "cell_type": "code",
      "source": [
        "tool=\" WireShark \"\n",
        "print(tool)"
      ],
      "metadata": {
        "colab": {
          "base_uri": "https://localhost:8080/"
        },
        "id": "d3pWmgwUWKck",
        "outputId": "a5c6b31f-7206-4ce4-f4c1-e1db88eb06ba"
      },
      "execution_count": null,
      "outputs": [
        {
          "output_type": "stream",
          "name": "stdout",
          "text": [
            " WireShark \n"
          ]
        }
      ]
    },
    {
      "cell_type": "code",
      "source": [
        "tool.rstrip()"
      ],
      "metadata": {
        "colab": {
          "base_uri": "https://localhost:8080/",
          "height": 35
        },
        "id": "Ts85uR6mWKe_",
        "outputId": "9b7a9824-c56f-40e4-ab7b-72cb35432eec"
      },
      "execution_count": null,
      "outputs": [
        {
          "output_type": "execute_result",
          "data": {
            "text/plain": [
              "' WireShark'"
            ],
            "application/vnd.google.colaboratory.intrinsic+json": {
              "type": "string"
            }
          },
          "metadata": {},
          "execution_count": 17
        }
      ]
    },
    {
      "cell_type": "code",
      "source": [
        "tool.lstrip()"
      ],
      "metadata": {
        "colab": {
          "base_uri": "https://localhost:8080/",
          "height": 35
        },
        "id": "Rkh1lYpTWKhs",
        "outputId": "c399b176-51e3-45a3-8b9c-e81cf8387688"
      },
      "execution_count": null,
      "outputs": [
        {
          "output_type": "execute_result",
          "data": {
            "text/plain": [
              "'WireShark '"
            ],
            "application/vnd.google.colaboratory.intrinsic+json": {
              "type": "string"
            }
          },
          "metadata": {},
          "execution_count": 18
        }
      ]
    },
    {
      "cell_type": "code",
      "source": [
        "universeAge= 52_565_220_119\n",
        "print(universeAge)"
      ],
      "metadata": {
        "colab": {
          "base_uri": "https://localhost:8080/"
        },
        "id": "5kvjXNChWKkB",
        "outputId": "c17be62c-a967-400c-b25d-02bfba65aaf9"
      },
      "execution_count": null,
      "outputs": [
        {
          "output_type": "stream",
          "name": "stdout",
          "text": [
            "52565220119\n"
          ]
        }
      ]
    },
    {
      "cell_type": "code",
      "source": [
        "Tools= [\"NetSparker\", \"Hydra\", \"JohnTheRipper\", \"FOCA\"]\n",
        "print(Tools)"
      ],
      "metadata": {
        "colab": {
          "base_uri": "https://localhost:8080/"
        },
        "id": "6kfJDFZUWKmb",
        "outputId": "568df136-bd11-43d6-8cd4-faad404fdcfd"
      },
      "execution_count": null,
      "outputs": [
        {
          "output_type": "stream",
          "name": "stdout",
          "text": [
            "['NetSparker', 'Hydra', 'JohnTheRipper', 'FOCA']\n"
          ]
        }
      ]
    },
    {
      "cell_type": "code",
      "source": [
        "print(Tools[2])"
      ],
      "metadata": {
        "colab": {
          "base_uri": "https://localhost:8080/"
        },
        "id": "3ZYoAXviWKo5",
        "outputId": "bcf90e96-8b01-4ecf-e87b-441fef0c7b06"
      },
      "execution_count": null,
      "outputs": [
        {
          "output_type": "stream",
          "name": "stdout",
          "text": [
            "JohnTheRipper\n"
          ]
        }
      ]
    },
    {
      "cell_type": "code",
      "source": [
        "print(Tools[3].lower())"
      ],
      "metadata": {
        "colab": {
          "base_uri": "https://localhost:8080/"
        },
        "id": "6rdPrlvyWKrh",
        "outputId": "7897f5cd-061f-42ea-c1b2-33ae68949b72"
      },
      "execution_count": null,
      "outputs": [
        {
          "output_type": "stream",
          "name": "stdout",
          "text": [
            "foca\n"
          ]
        }
      ]
    },
    {
      "cell_type": "code",
      "source": [
        "advice= f\"The best tool is {Tools[2]} for your aim\"\n",
        "print(advice)"
      ],
      "metadata": {
        "colab": {
          "base_uri": "https://localhost:8080/"
        },
        "id": "qJmXnjyzWKt6",
        "outputId": "57189081-93e9-403a-bfc6-92e57915e787"
      },
      "execution_count": null,
      "outputs": [
        {
          "output_type": "stream",
          "name": "stdout",
          "text": [
            "The best tool is JohnTheRipper for your aim\n"
          ]
        }
      ]
    },
    {
      "cell_type": "code",
      "source": [
        "Tools"
      ],
      "metadata": {
        "colab": {
          "base_uri": "https://localhost:8080/"
        },
        "id": "y2KfMlHiWK2R",
        "outputId": "d8ff7506-fb5c-431d-bc07-4d85753cf883"
      },
      "execution_count": null,
      "outputs": [
        {
          "output_type": "execute_result",
          "data": {
            "text/plain": [
              "['NetSparker', 'Hydra', 'JohnTheRipper', 'FOCA']"
            ]
          },
          "metadata": {},
          "execution_count": 26
        }
      ]
    },
    {
      "cell_type": "code",
      "source": [
        "Tools[2]=\"Nmap\"\n",
        "Tools"
      ],
      "metadata": {
        "colab": {
          "base_uri": "https://localhost:8080/"
        },
        "id": "VjSH3nXnWK4h",
        "outputId": "d6ca6d0c-4bac-4cc3-9a4d-e781658c6e1c"
      },
      "execution_count": null,
      "outputs": [
        {
          "output_type": "execute_result",
          "data": {
            "text/plain": [
              "['NetSparker', 'Hydra', 'Nmap', 'FOCA']"
            ]
          },
          "metadata": {},
          "execution_count": 32
        }
      ]
    },
    {
      "cell_type": "code",
      "source": [
        "Tools.append(\"Nessus\")\n"
      ],
      "metadata": {
        "colab": {
          "base_uri": "https://localhost:8080/"
        },
        "id": "0esnbsAjWLBj",
        "outputId": "3eeed82f-1c70-4c8b-f25f-dbec73cd6a5e"
      },
      "execution_count": null,
      "outputs": [
        {
          "output_type": "execute_result",
          "data": {
            "text/plain": [
              "['NetSparker', 'Hydra', 'Nmap', 'FOCA', 'Nessus', 'Nessus', 'Nessus']"
            ]
          },
          "metadata": {},
          "execution_count": 35
        }
      ]
    },
    {
      "cell_type": "code",
      "source": [
        " Tools"
      ],
      "metadata": {
        "colab": {
          "base_uri": "https://localhost:8080/"
        },
        "id": "2qOyF72ga6e-",
        "outputId": "0ee1b71c-a2e7-4b4a-a7ba-1c8de9a12d42"
      },
      "execution_count": null,
      "outputs": [
        {
          "output_type": "execute_result",
          "data": {
            "text/plain": [
              "['NetSparker', 'Hydra', 'Nmap', 'FOCA', 'Nessus']"
            ]
          },
          "metadata": {},
          "execution_count": 39
        }
      ]
    },
    {
      "cell_type": "code",
      "source": [
        "Tools.insert(1,\"BurpSuite\")"
      ],
      "metadata": {
        "id": "yXGtsj84a6ha"
      },
      "execution_count": null,
      "outputs": []
    },
    {
      "cell_type": "code",
      "source": [
        "Tools"
      ],
      "metadata": {
        "colab": {
          "base_uri": "https://localhost:8080/"
        },
        "id": "lJUaZORda6js",
        "outputId": "f27a76a1-1b78-4778-e448-76f95c1fbe23"
      },
      "execution_count": null,
      "outputs": [
        {
          "output_type": "execute_result",
          "data": {
            "text/plain": [
              "['NetSparker', 'BurpSuite', 'Hydra', 'Nmap', 'FOCA', 'Nessus']"
            ]
          },
          "metadata": {},
          "execution_count": 41
        }
      ]
    },
    {
      "cell_type": "code",
      "source": [
        "del Tools[4]"
      ],
      "metadata": {
        "id": "R7Q0pResa6l-"
      },
      "execution_count": null,
      "outputs": []
    },
    {
      "cell_type": "code",
      "source": [
        "Tools"
      ],
      "metadata": {
        "colab": {
          "base_uri": "https://localhost:8080/"
        },
        "id": "HGDnCboda6oK",
        "outputId": "18e18e1b-4e82-4fe9-a1dd-f6dee3d512de"
      },
      "execution_count": null,
      "outputs": [
        {
          "output_type": "execute_result",
          "data": {
            "text/plain": [
              "['NetSparker', 'BurpSuite', 'Hydra', 'Nmap', 'Nessus']"
            ]
          },
          "metadata": {},
          "execution_count": 43
        }
      ]
    },
    {
      "cell_type": "code",
      "source": [
        "Tools.append(\"Nessus\")"
      ],
      "metadata": {
        "id": "g65F8jp6a6qu"
      },
      "execution_count": null,
      "outputs": []
    },
    {
      "cell_type": "code",
      "source": [
        "Tools"
      ],
      "metadata": {
        "colab": {
          "base_uri": "https://localhost:8080/"
        },
        "id": "5Vch6EA2a6ta",
        "outputId": "36b5b0a2-68c3-4c4e-cd6c-f195d61b67b7"
      },
      "execution_count": null,
      "outputs": [
        {
          "output_type": "execute_result",
          "data": {
            "text/plain": [
              "['NetSparker', 'BurpSuite', 'Hydra', 'Nmap', 'Nessus', 'Nessus']"
            ]
          },
          "metadata": {},
          "execution_count": 45
        }
      ]
    },
    {
      "cell_type": "code",
      "source": [
        "Tools.count(\"Nessus\")"
      ],
      "metadata": {
        "colab": {
          "base_uri": "https://localhost:8080/"
        },
        "id": "xhSaqd0ya6vh",
        "outputId": "984f74f6-8e09-4e22-b43c-630f40c0e0b3"
      },
      "execution_count": null,
      "outputs": [
        {
          "output_type": "execute_result",
          "data": {
            "text/plain": [
              "2"
            ]
          },
          "metadata": {},
          "execution_count": 46
        }
      ]
    },
    {
      "cell_type": "code",
      "source": [
        "Tools.count(\"Nmap\")"
      ],
      "metadata": {
        "colab": {
          "base_uri": "https://localhost:8080/"
        },
        "id": "WLcntciWa6x8",
        "outputId": "fb7a907b-1c3f-4f9f-b9c0-bf17278ee60f"
      },
      "execution_count": null,
      "outputs": [
        {
          "output_type": "execute_result",
          "data": {
            "text/plain": [
              "1"
            ]
          },
          "metadata": {},
          "execution_count": 47
        }
      ]
    },
    {
      "cell_type": "code",
      "source": [
        "Tools.sort()"
      ],
      "metadata": {
        "id": "SL6cDgeVa60X"
      },
      "execution_count": null,
      "outputs": []
    },
    {
      "cell_type": "code",
      "source": [
        "Tools"
      ],
      "metadata": {
        "colab": {
          "base_uri": "https://localhost:8080/"
        },
        "id": "QidJFofLa62s",
        "outputId": "28b09d82-1ab4-407c-9713-a4800882cfa6"
      },
      "execution_count": null,
      "outputs": [
        {
          "output_type": "execute_result",
          "data": {
            "text/plain": [
              "['BurpSuite', 'Hydra', 'Nessus', 'Nessus', 'NetSparker', 'Nmap']"
            ]
          },
          "metadata": {},
          "execution_count": 49
        }
      ]
    },
    {
      "cell_type": "code",
      "source": [
        "Tools.sort(reverse=True)"
      ],
      "metadata": {
        "id": "arVqJcA8a65W"
      },
      "execution_count": null,
      "outputs": []
    },
    {
      "cell_type": "code",
      "source": [
        "Tools"
      ],
      "metadata": {
        "colab": {
          "base_uri": "https://localhost:8080/"
        },
        "id": "5q0FVAhda67v",
        "outputId": "3bdcc4c8-5656-449f-dc7e-285008265d97"
      },
      "execution_count": null,
      "outputs": [
        {
          "output_type": "execute_result",
          "data": {
            "text/plain": [
              "['Nmap', 'NetSparker', 'Nessus', 'Nessus', 'Hydra', 'BurpSuite']"
            ]
          },
          "metadata": {},
          "execution_count": 51
        }
      ]
    },
    {
      "cell_type": "code",
      "source": [
        "len(Tools)"
      ],
      "metadata": {
        "colab": {
          "base_uri": "https://localhost:8080/"
        },
        "id": "0S2-OU5ra6-O",
        "outputId": "7f709331-f8c8-47b5-8b66-737cb3c9d038"
      },
      "execution_count": null,
      "outputs": [
        {
          "output_type": "execute_result",
          "data": {
            "text/plain": [
              "6"
            ]
          },
          "metadata": {},
          "execution_count": 53
        }
      ]
    },
    {
      "cell_type": "code",
      "source": [
        "type(Tools)"
      ],
      "metadata": {
        "colab": {
          "base_uri": "https://localhost:8080/"
        },
        "id": "jtEaLRipa7Aq",
        "outputId": "6be5c2ec-b9ae-4690-e1dc-cdb718cee9a6"
      },
      "execution_count": null,
      "outputs": [
        {
          "output_type": "execute_result",
          "data": {
            "text/plain": [
              "list"
            ]
          },
          "metadata": {},
          "execution_count": 54
        }
      ]
    },
    {
      "cell_type": "code",
      "source": [
        "phone=(\"samsung\",\"apple\",\"xiaomi\", \"huawei\")"
      ],
      "metadata": {
        "id": "-GTusQ67a7C-"
      },
      "execution_count": null,
      "outputs": []
    },
    {
      "cell_type": "code",
      "source": [
        "print(phone)"
      ],
      "metadata": {
        "colab": {
          "base_uri": "https://localhost:8080/"
        },
        "id": "MFX_4Lzta7Fc",
        "outputId": "bdbd4b72-ff50-4d08-a871-a7549acc06cc"
      },
      "execution_count": null,
      "outputs": [
        {
          "output_type": "stream",
          "name": "stdout",
          "text": [
            "('samsung', 'apple', 'xiaomi', 'huawei')\n"
          ]
        }
      ]
    },
    {
      "cell_type": "code",
      "source": [
        "type(phone)"
      ],
      "metadata": {
        "colab": {
          "base_uri": "https://localhost:8080/"
        },
        "id": "p2YJs0Rcc7s9",
        "outputId": "1f9c1eb6-e89d-44ea-bf25-488e6429a452"
      },
      "execution_count": null,
      "outputs": [
        {
          "output_type": "execute_result",
          "data": {
            "text/plain": [
              "tuple"
            ]
          },
          "metadata": {},
          "execution_count": 58
        }
      ]
    },
    {
      "cell_type": "code",
      "source": [
        "tuple1=(\"Çağrı\",22,False,18.5)"
      ],
      "metadata": {
        "id": "x8cXd4XHc7vF"
      },
      "execution_count": null,
      "outputs": []
    },
    {
      "cell_type": "code",
      "source": [
        "print(tuple1[0].lower())"
      ],
      "metadata": {
        "colab": {
          "base_uri": "https://localhost:8080/"
        },
        "id": "A4CFCietc7xM",
        "outputId": "13da46d6-a627-4879-f4f6-8b75e19bf1ab"
      },
      "execution_count": null,
      "outputs": [
        {
          "output_type": "stream",
          "name": "stdout",
          "text": [
            "çağrı\n"
          ]
        }
      ]
    },
    {
      "cell_type": "code",
      "source": [
        "sett={\"pineapple\",\"watermelon\",\"cherry\",\"peach\", \"watermelon\"}"
      ],
      "metadata": {
        "id": "qn1q9T0rc70N"
      },
      "execution_count": null,
      "outputs": []
    },
    {
      "cell_type": "code",
      "source": [
        "print(sett)"
      ],
      "metadata": {
        "colab": {
          "base_uri": "https://localhost:8080/"
        },
        "id": "TyHeCMCxc72F",
        "outputId": "fb650394-44c2-4a7b-ac8e-65a355accd93"
      },
      "execution_count": null,
      "outputs": [
        {
          "output_type": "stream",
          "name": "stdout",
          "text": [
            "{'peach', 'pineapple', 'cherry', 'watermelon'}\n"
          ]
        }
      ]
    },
    {
      "cell_type": "code",
      "source": [
        "sett.remove(\"watermelon\")"
      ],
      "metadata": {
        "id": "TpJnMDToc76X"
      },
      "execution_count": null,
      "outputs": []
    },
    {
      "cell_type": "code",
      "source": [
        "print(sett)"
      ],
      "metadata": {
        "colab": {
          "base_uri": "https://localhost:8080/"
        },
        "id": "G83D1_Uwc78l",
        "outputId": "0f1042a5-5408-4874-e205-c0eaeef4bac4"
      },
      "execution_count": null,
      "outputs": [
        {
          "output_type": "stream",
          "name": "stdout",
          "text": [
            "{'peach', 'pineapple', 'cherry'}\n"
          ]
        }
      ]
    },
    {
      "cell_type": "code",
      "source": [
        "dict_phone={\"brand\":\"Apple\", \"model\":\"14 Pro Max\", \"year\":2023, \"price\":50000}\n",
        "     "
      ],
      "metadata": {
        "id": "penHhwUKc7_g"
      },
      "execution_count": null,
      "outputs": []
    },
    {
      "cell_type": "code",
      "source": [
        "print(dict_phone)"
      ],
      "metadata": {
        "colab": {
          "base_uri": "https://localhost:8080/"
        },
        "id": "5nTGOnsac8BW",
        "outputId": "2485a264-15ee-4c9c-a93c-43eabf57fe26"
      },
      "execution_count": null,
      "outputs": [
        {
          "output_type": "stream",
          "name": "stdout",
          "text": [
            "{'brand': 'Apple', 'model': '14 Pro Max', 'year': 2023, 'price': 50000}\n"
          ]
        }
      ]
    },
    {
      "cell_type": "code",
      "source": [
        "print(dict_phone[\"model\"])"
      ],
      "metadata": {
        "colab": {
          "base_uri": "https://localhost:8080/"
        },
        "id": "4xM4N65xc8Dh",
        "outputId": "64d205dd-3fff-4340-c501-417af16d3acb"
      },
      "execution_count": null,
      "outputs": [
        {
          "output_type": "stream",
          "name": "stdout",
          "text": [
            "14 Pro Max\n"
          ]
        }
      ]
    },
    {
      "cell_type": "code",
      "source": [
        "phone2={\n",
        "    \"brand\":\"Samsung\",\n",
        "    \"model\":\"A50\",\n",
        "    \"year\":2022,\n",
        "    \"price\":9800\n",
        "}"
      ],
      "metadata": {
        "id": "xVLUhCKnc8F0"
      },
      "execution_count": null,
      "outputs": []
    },
    {
      "cell_type": "code",
      "source": [
        "type(phone2)"
      ],
      "metadata": {
        "colab": {
          "base_uri": "https://localhost:8080/"
        },
        "id": "ifgukyUmc8IS",
        "outputId": "b6a5396b-5dd9-472f-9e1a-cc7d7a3d5a82"
      },
      "execution_count": null,
      "outputs": [
        {
          "output_type": "execute_result",
          "data": {
            "text/plain": [
              "dict"
            ]
          },
          "metadata": {},
          "execution_count": 70
        }
      ]
    },
    {
      "cell_type": "code",
      "source": [
        "print(phone2[\"price\"])"
      ],
      "metadata": {
        "colab": {
          "base_uri": "https://localhost:8080/"
        },
        "id": "uPOaWbH3c8Kh",
        "outputId": "6eeb98f6-e5d6-4c6c-d75a-d157afd77c3b"
      },
      "execution_count": null,
      "outputs": [
        {
          "output_type": "stream",
          "name": "stdout",
          "text": [
            "9800\n"
          ]
        }
      ]
    },
    {
      "cell_type": "code",
      "source": [
        "print(len(phone2))"
      ],
      "metadata": {
        "colab": {
          "base_uri": "https://localhost:8080/"
        },
        "id": "gPxsnC5_c8M3",
        "outputId": "f0576883-0b4f-47fc-8409-4eda464198a9"
      },
      "execution_count": null,
      "outputs": [
        {
          "output_type": "stream",
          "name": "stdout",
          "text": [
            "4\n"
          ]
        }
      ]
    },
    {
      "cell_type": "code",
      "source": [
        "phone2[\"price\"]=18500"
      ],
      "metadata": {
        "id": "8PEdoudJc8PN"
      },
      "execution_count": null,
      "outputs": []
    },
    {
      "cell_type": "code",
      "source": [
        "print(phone2[\"price\"])"
      ],
      "metadata": {
        "colab": {
          "base_uri": "https://localhost:8080/"
        },
        "id": "FjfLSegLc8Ru",
        "outputId": "05fd8bd0-1e8d-4ae5-abbe-a21333c3db1d"
      },
      "execution_count": null,
      "outputs": [
        {
          "output_type": "stream",
          "name": "stdout",
          "text": [
            "18500\n"
          ]
        }
      ]
    },
    {
      "cell_type": "code",
      "source": [
        "print(phone2)"
      ],
      "metadata": {
        "colab": {
          "base_uri": "https://localhost:8080/"
        },
        "id": "44BFDH7Hc8T0",
        "outputId": "eea9f825-b9a9-4f73-fe74-0b9f20f62c28"
      },
      "execution_count": null,
      "outputs": [
        {
          "output_type": "stream",
          "name": "stdout",
          "text": [
            "{'brand': 'Samsung', 'model': 'A50', 'year': 2022, 'price': 18500}\n"
          ]
        }
      ]
    },
    {
      "cell_type": "code",
      "source": [
        "del phone2[\"model\"]\n"
      ],
      "metadata": {
        "id": "dsALN0SKc8Xb"
      },
      "execution_count": null,
      "outputs": []
    },
    {
      "cell_type": "code",
      "source": [
        "phone2"
      ],
      "metadata": {
        "colab": {
          "base_uri": "https://localhost:8080/"
        },
        "id": "VMby1ONkc8ZQ",
        "outputId": "9ee9c194-bff1-4b2b-bb68-405d983e7bee"
      },
      "execution_count": null,
      "outputs": [
        {
          "output_type": "execute_result",
          "data": {
            "text/plain": [
              "{'brand': 'Samsung', 'year': 2022, 'price': 18500}"
            ]
          },
          "metadata": {},
          "execution_count": 80
        }
      ]
    },
    {
      "cell_type": "code",
      "source": [
        "phone2.clear()"
      ],
      "metadata": {
        "id": "a9yXncEIc8bq"
      },
      "execution_count": null,
      "outputs": []
    },
    {
      "cell_type": "code",
      "source": [
        "phone2"
      ],
      "metadata": {
        "colab": {
          "base_uri": "https://localhost:8080/"
        },
        "id": "cU2UZtaka7H6",
        "outputId": "75f7d8c6-5c0d-4fdc-9854-e3d1d9b46105"
      },
      "execution_count": null,
      "outputs": [
        {
          "output_type": "execute_result",
          "data": {
            "text/plain": [
              "{}"
            ]
          },
          "metadata": {},
          "execution_count": 82
        }
      ]
    },
    {
      "cell_type": "code",
      "source": [],
      "metadata": {
        "id": "2JS-qY_va7Kb"
      },
      "execution_count": null,
      "outputs": []
    }
  ]
}