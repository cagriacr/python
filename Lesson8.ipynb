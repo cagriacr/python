{
  "nbformat": 4,
  "nbformat_minor": 0,
  "metadata": {
    "colab": {
      "provenance": [],
      "authorship_tag": "ABX9TyNfVICV5ivGQH3372Ps+1Sb",
      "include_colab_link": true
    },
    "kernelspec": {
      "name": "python3",
      "display_name": "Python 3"
    },
    "language_info": {
      "name": "python"
    }
  },
  "cells": [
    {
      "cell_type": "markdown",
      "metadata": {
        "id": "view-in-github",
        "colab_type": "text"
      },
      "source": [
        "<a href=\"https://colab.research.google.com/github/cagriacr/python/blob/main/Lesson8.ipynb\" target=\"_parent\"><img src=\"https://colab.research.google.com/assets/colab-badge.svg\" alt=\"Open In Colab\"/></a>"
      ]
    },
    {
      "cell_type": "code",
      "execution_count": 24,
      "metadata": {
        "id": "M6xkVYdhVdGv"
      },
      "outputs": [],
      "source": [
        "class Car:\n",
        "    def __init__(self, make, model, year):\n",
        "        self._make = make  \n",
        "        self._model = model \n",
        "        self.__year = year  \n",
        "    def get_make(self):\n",
        "        return self._make\n",
        "\n",
        "    def set_make(self, make):\n",
        "        self._make = make\n",
        "\n",
        "    def get_model(self):\n",
        "        return self._model\n",
        "\n",
        "    def set_model(self, model):\n",
        "        self._model = model\n",
        "\n",
        "    def get_year(self):\n",
        "        return self.__year\n",
        "\n",
        "    def set_year(self, year):\n",
        "        self.__year = year\n",
        "\n",
        "\n",
        "\n"
      ]
    },
    {
      "cell_type": "code",
      "source": [
        "car = Car('Toyota', 'Yaris', 2012)"
      ],
      "metadata": {
        "id": "aA5_8y5WVhHu"
      },
      "execution_count": 13,
      "outputs": []
    },
    {
      "cell_type": "code",
      "source": [
        "print(car.get_make())  "
      ],
      "metadata": {
        "colab": {
          "base_uri": "https://localhost:8080/"
        },
        "id": "_-lnv90MVhKE",
        "outputId": "05d662c5-7039-4f92-9cc4-d570ed55fb18"
      },
      "execution_count": 14,
      "outputs": [
        {
          "output_type": "stream",
          "name": "stdout",
          "text": [
            "Toyota\n"
          ]
        }
      ]
    },
    {
      "cell_type": "code",
      "source": [
        "print(car.get_model())"
      ],
      "metadata": {
        "colab": {
          "base_uri": "https://localhost:8080/"
        },
        "id": "2SCbGJktVhNL",
        "outputId": "fc1df792-b9ca-4185-cdbe-bb501217f749"
      },
      "execution_count": 15,
      "outputs": [
        {
          "output_type": "stream",
          "name": "stdout",
          "text": [
            "Yaris\n"
          ]
        }
      ]
    },
    {
      "cell_type": "code",
      "source": [
        "print(car.get_year())"
      ],
      "metadata": {
        "colab": {
          "base_uri": "https://localhost:8080/"
        },
        "id": "QQN_pAYMVhRt",
        "outputId": "1ff2facd-1177-439e-8a47-d728e1db6bef"
      },
      "execution_count": 16,
      "outputs": [
        {
          "output_type": "stream",
          "name": "stdout",
          "text": [
            "2012\n"
          ]
        }
      ]
    },
    {
      "cell_type": "code",
      "source": [
        "car.set_make('Volkswagen')"
      ],
      "metadata": {
        "id": "xTM5M_ynVhUl"
      },
      "execution_count": 18,
      "outputs": []
    },
    {
      "cell_type": "code",
      "source": [
        "car.set_model('Scirocco')"
      ],
      "metadata": {
        "id": "KfvaGmU3VhXN"
      },
      "execution_count": 19,
      "outputs": []
    },
    {
      "cell_type": "code",
      "source": [
        "car.set_year(2017)"
      ],
      "metadata": {
        "id": "9ffWF0PHVhZ1"
      },
      "execution_count": 20,
      "outputs": []
    },
    {
      "cell_type": "code",
      "source": [
        "print(car.get_make()) "
      ],
      "metadata": {
        "colab": {
          "base_uri": "https://localhost:8080/"
        },
        "id": "5htmOkyvVhcu",
        "outputId": "261de32c-1c56-4f24-e29b-b6c37f000695"
      },
      "execution_count": 21,
      "outputs": [
        {
          "output_type": "stream",
          "name": "stdout",
          "text": [
            "Volkswagen\n"
          ]
        }
      ]
    },
    {
      "cell_type": "code",
      "source": [
        "print(car.get_model()) "
      ],
      "metadata": {
        "colab": {
          "base_uri": "https://localhost:8080/"
        },
        "id": "lQOdJRnOVhfp",
        "outputId": "c0c14c8c-0e14-446c-e0c9-22fcd5cc0b84"
      },
      "execution_count": 22,
      "outputs": [
        {
          "output_type": "stream",
          "name": "stdout",
          "text": [
            "Scirocco\n"
          ]
        }
      ]
    },
    {
      "cell_type": "code",
      "source": [
        "print(car.get_year()) "
      ],
      "metadata": {
        "colab": {
          "base_uri": "https://localhost:8080/"
        },
        "id": "wwExkH_GVhiF",
        "outputId": "8eb71f56-6c4d-4dc2-b65b-6e8307d3a48e"
      },
      "execution_count": 23,
      "outputs": [
        {
          "output_type": "stream",
          "name": "stdout",
          "text": [
            "2017\n"
          ]
        }
      ]
    },
    {
      "cell_type": "code",
      "source": [
        "class Person:\n",
        "  def __init__(self, name, tc):\n",
        "    self.name=name\n",
        "    self.__tc=tc\n",
        "\n",
        "  def showhidden(self):\n",
        "    print(\"private member (TC):\", self.__tc)"
      ],
      "metadata": {
        "id": "Fr58H05eVhlO"
      },
      "execution_count": 25,
      "outputs": []
    },
    {
      "cell_type": "code",
      "source": [
        "per1= Person(\"Çağrı\", 12542541254)"
      ],
      "metadata": {
        "id": "gCBqu073VhnE"
      },
      "execution_count": 26,
      "outputs": []
    },
    {
      "cell_type": "code",
      "source": [
        "per1.name"
      ],
      "metadata": {
        "colab": {
          "base_uri": "https://localhost:8080/",
          "height": 35
        },
        "id": "lcbSeu2BVhqY",
        "outputId": "382740be-a7b6-4c76-81f5-96f3267f946c"
      },
      "execution_count": 27,
      "outputs": [
        {
          "output_type": "execute_result",
          "data": {
            "text/plain": [
              "'Çağrı'"
            ],
            "application/vnd.google.colaboratory.intrinsic+json": {
              "type": "string"
            }
          },
          "metadata": {},
          "execution_count": 27
        }
      ]
    },
    {
      "cell_type": "code",
      "source": [
        "per1.tc"
      ],
      "metadata": {
        "colab": {
          "base_uri": "https://localhost:8080/",
          "height": 166
        },
        "id": "0Z5I9sW_Vhs1",
        "outputId": "3725fc17-338d-4a42-a697-ff5ed9df202b"
      },
      "execution_count": 28,
      "outputs": [
        {
          "output_type": "error",
          "ename": "AttributeError",
          "evalue": "ignored",
          "traceback": [
            "\u001b[0;31m---------------------------------------------------------------------------\u001b[0m",
            "\u001b[0;31mAttributeError\u001b[0m                            Traceback (most recent call last)",
            "\u001b[0;32m<ipython-input-28-6655f86d8d84>\u001b[0m in \u001b[0;36m<cell line: 1>\u001b[0;34m()\u001b[0m\n\u001b[0;32m----> 1\u001b[0;31m \u001b[0mper1\u001b[0m\u001b[0;34m.\u001b[0m\u001b[0mtc\u001b[0m\u001b[0;34m\u001b[0m\u001b[0;34m\u001b[0m\u001b[0m\n\u001b[0m",
            "\u001b[0;31mAttributeError\u001b[0m: 'Person' object has no attribute 'tc'"
          ]
        }
      ]
    },
    {
      "cell_type": "code",
      "source": [
        "per1.__tc"
      ],
      "metadata": {
        "colab": {
          "base_uri": "https://localhost:8080/",
          "height": 166
        },
        "id": "fAK5U_e_Vhvb",
        "outputId": "3ee0688f-f29f-4b6e-81d3-fd94d9df385c"
      },
      "execution_count": 29,
      "outputs": [
        {
          "output_type": "error",
          "ename": "AttributeError",
          "evalue": "ignored",
          "traceback": [
            "\u001b[0;31m---------------------------------------------------------------------------\u001b[0m",
            "\u001b[0;31mAttributeError\u001b[0m                            Traceback (most recent call last)",
            "\u001b[0;32m<ipython-input-29-a5a5db663c3d>\u001b[0m in \u001b[0;36m<cell line: 1>\u001b[0;34m()\u001b[0m\n\u001b[0;32m----> 1\u001b[0;31m \u001b[0mper1\u001b[0m\u001b[0;34m.\u001b[0m\u001b[0m__tc\u001b[0m\u001b[0;34m\u001b[0m\u001b[0;34m\u001b[0m\u001b[0m\n\u001b[0m",
            "\u001b[0;31mAttributeError\u001b[0m: 'Person' object has no attribute '__tc'"
          ]
        }
      ]
    },
    {
      "cell_type": "code",
      "source": [
        "per1.showhidden()"
      ],
      "metadata": {
        "colab": {
          "base_uri": "https://localhost:8080/"
        },
        "id": "f3okR1k2Vhyn",
        "outputId": "afa3b32a-1eee-45a0-d6d5-b0ffd0303fa8"
      },
      "execution_count": 30,
      "outputs": [
        {
          "output_type": "stream",
          "name": "stdout",
          "text": [
            "private member (TC): 12542541254\n"
          ]
        }
      ]
    },
    {
      "cell_type": "code",
      "source": [
        "class Data:\n",
        "  \n",
        "  def __init__(self, name, surname, tc):\n",
        "    self.name=name \n",
        "    self.__tc=tc \n",
        "    self.surname=surname \n",
        "\n",
        "  \n",
        "  def getTC(self):\n",
        "        return self.__tc\n",
        "\n",
        "  def setTC(self,death):\n",
        "    self.__tc=death\n"
      ],
      "metadata": {
        "id": "3tniuccvVh3d"
      },
      "execution_count": 50,
      "outputs": []
    },
    {
      "cell_type": "code",
      "source": [
        "p1= Data(\"çağrı\", \"acer\", 12451245124)"
      ],
      "metadata": {
        "id": "iZnVecBPVh6V"
      },
      "execution_count": 41,
      "outputs": []
    },
    {
      "cell_type": "code",
      "source": [
        "p1.name"
      ],
      "metadata": {
        "colab": {
          "base_uri": "https://localhost:8080/",
          "height": 35
        },
        "id": "2UhcS3f3Vh83",
        "outputId": "05f553e6-3a59-423c-97c2-6eeea97d4bdd"
      },
      "execution_count": 42,
      "outputs": [
        {
          "output_type": "execute_result",
          "data": {
            "text/plain": [
              "'çağrı'"
            ],
            "application/vnd.google.colaboratory.intrinsic+json": {
              "type": "string"
            }
          },
          "metadata": {},
          "execution_count": 42
        }
      ]
    },
    {
      "cell_type": "code",
      "source": [
        "p1.surname"
      ],
      "metadata": {
        "colab": {
          "base_uri": "https://localhost:8080/",
          "height": 35
        },
        "id": "-VQD5RouVh_q",
        "outputId": "90787748-bb6a-450d-f314-988d5dbc5ebd"
      },
      "execution_count": 43,
      "outputs": [
        {
          "output_type": "execute_result",
          "data": {
            "text/plain": [
              "'acer'"
            ],
            "application/vnd.google.colaboratory.intrinsic+json": {
              "type": "string"
            }
          },
          "metadata": {},
          "execution_count": 43
        }
      ]
    },
    {
      "cell_type": "code",
      "source": [
        "p1.name.capitalize()"
      ],
      "metadata": {
        "colab": {
          "base_uri": "https://localhost:8080/",
          "height": 35
        },
        "id": "dUTl5IWyViCM",
        "outputId": "4fb9bb91-58cb-41b9-b711-57a01ae9d047"
      },
      "execution_count": 44,
      "outputs": [
        {
          "output_type": "execute_result",
          "data": {
            "text/plain": [
              "'Çağrı'"
            ],
            "application/vnd.google.colaboratory.intrinsic+json": {
              "type": "string"
            }
          },
          "metadata": {},
          "execution_count": 44
        }
      ]
    },
    {
      "cell_type": "code",
      "source": [
        "p1.surname.upper()"
      ],
      "metadata": {
        "colab": {
          "base_uri": "https://localhost:8080/",
          "height": 35
        },
        "id": "lsfHQfugViEv",
        "outputId": "4022bb8d-cf43-47c0-8ab0-e39271153106"
      },
      "execution_count": 45,
      "outputs": [
        {
          "output_type": "execute_result",
          "data": {
            "text/plain": [
              "'ACER'"
            ],
            "application/vnd.google.colaboratory.intrinsic+json": {
              "type": "string"
            }
          },
          "metadata": {},
          "execution_count": 45
        }
      ]
    },
    {
      "cell_type": "code",
      "source": [
        "p1.tc"
      ],
      "metadata": {
        "colab": {
          "base_uri": "https://localhost:8080/",
          "height": 166
        },
        "id": "AnZ_zDnvViHV",
        "outputId": "a5e6848e-ca5b-4bcc-a7c6-c26d7e10a00d"
      },
      "execution_count": 46,
      "outputs": [
        {
          "output_type": "error",
          "ename": "AttributeError",
          "evalue": "ignored",
          "traceback": [
            "\u001b[0;31m---------------------------------------------------------------------------\u001b[0m",
            "\u001b[0;31mAttributeError\u001b[0m                            Traceback (most recent call last)",
            "\u001b[0;32m<ipython-input-46-2a2ef9657823>\u001b[0m in \u001b[0;36m<cell line: 1>\u001b[0;34m()\u001b[0m\n\u001b[0;32m----> 1\u001b[0;31m \u001b[0mp1\u001b[0m\u001b[0;34m.\u001b[0m\u001b[0mtc\u001b[0m\u001b[0;34m\u001b[0m\u001b[0;34m\u001b[0m\u001b[0m\n\u001b[0m",
            "\u001b[0;31mAttributeError\u001b[0m: 'Data' object has no attribute 'tc'"
          ]
        }
      ]
    },
    {
      "cell_type": "code",
      "source": [
        "p1.getTC()"
      ],
      "metadata": {
        "colab": {
          "base_uri": "https://localhost:8080/"
        },
        "id": "llDf571wViKS",
        "outputId": "281c19d9-ae90-4351-9cae-2bb0a7594ea1"
      },
      "execution_count": 51,
      "outputs": [
        {
          "output_type": "execute_result",
          "data": {
            "text/plain": [
              "12451245124"
            ]
          },
          "metadata": {},
          "execution_count": 51
        }
      ]
    },
    {
      "cell_type": "code",
      "source": [
        "p2=Data(\"Mehmet\", \"Topal\", 12345678978)\n",
        "p3=Data(\"Mehmet\", \"Topuz\", 45678912312)"
      ],
      "metadata": {
        "id": "X8sVuR9iViMn"
      },
      "execution_count": 54,
      "outputs": []
    },
    {
      "cell_type": "code",
      "source": [
        "print(p2.name , p2.surname)\n",
        "print(p3.name , p3.surname)"
      ],
      "metadata": {
        "colab": {
          "base_uri": "https://localhost:8080/"
        },
        "id": "usp1hpmtViPh",
        "outputId": "2f860ec2-5d14-4f6e-895c-e24cd3eb2e73"
      },
      "execution_count": 58,
      "outputs": [
        {
          "output_type": "stream",
          "name": "stdout",
          "text": [
            "Mehmet Topal\n",
            "Mehmet Topuz\n"
          ]
        }
      ]
    },
    {
      "cell_type": "code",
      "source": [
        "print(\"get TC:\" , p2.getTC())"
      ],
      "metadata": {
        "colab": {
          "base_uri": "https://localhost:8080/"
        },
        "id": "oXLNYuFIViSA",
        "outputId": "f7a8c5f9-7b93-4352-f3ce-34f32f2ec70e"
      },
      "execution_count": 60,
      "outputs": [
        {
          "output_type": "stream",
          "name": "stdout",
          "text": [
            "get TC: 12345678978\n"
          ]
        }
      ]
    },
    {
      "cell_type": "code",
      "source": [
        "print(\"İsim Soyisim:\" , p2.name , p2.surname , \" TC:\" , p2.getTC()) "
      ],
      "metadata": {
        "colab": {
          "base_uri": "https://localhost:8080/"
        },
        "id": "UXqqp9sRViU2",
        "outputId": "e6a6e0cd-a877-4615-957e-18433d079cb3"
      },
      "execution_count": 63,
      "outputs": [
        {
          "output_type": "stream",
          "name": "stdout",
          "text": [
            "İsim Soyisim: Mehmet Topal  TC: 12345678978\n"
          ]
        }
      ]
    },
    {
      "cell_type": "code",
      "source": [
        "print(\"İsim Soyisim:\" , p3.name , p3.surname , \" TC:\" , p3.getTC()) "
      ],
      "metadata": {
        "colab": {
          "base_uri": "https://localhost:8080/"
        },
        "id": "QNva7xI-ViXs",
        "outputId": "b9e18b01-a47b-424c-b7aa-6ede877b9c94"
      },
      "execution_count": 64,
      "outputs": [
        {
          "output_type": "stream",
          "name": "stdout",
          "text": [
            "İsim Soyisim: Mehmet Topuz  TC: 45678912312\n"
          ]
        }
      ]
    }
  ]
}